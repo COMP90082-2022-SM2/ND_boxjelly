{
 "cells": [
  {
   "cell_type": "markdown",
   "id": "dd818461",
   "metadata": {},
   "source": [
    "# extract text and conments by lines"
   ]
  },
  {
   "cell_type": "code",
   "execution_count": 379,
   "id": "7509c031",
   "metadata": {
    "ExecuteTime": {
     "end_time": "2022-10-10T12:03:26.971930Z",
     "start_time": "2022-10-10T12:03:26.961928Z"
    }
   },
   "outputs": [],
   "source": [
    "import pdfplumber\n",
    "import pandas as pd\n",
    "\n",
    "file_name = \"PBSP Summary Document Final.pdf\""
   ]
  },
  {
   "cell_type": "code",
   "execution_count": 380,
   "id": "02e029ee",
   "metadata": {
    "ExecuteTime": {
     "end_time": "2022-10-10T12:03:28.670648Z",
     "start_time": "2022-10-10T12:03:28.655650Z"
    }
   },
   "outputs": [
    {
     "ename": "FileNotFoundError",
     "evalue": "no such file: 'PBSP Summary Document Final.pdf'",
     "output_type": "error",
     "traceback": [
      "\u001b[1;31m---------------------------------------------------------------------------\u001b[0m",
      "\u001b[1;31mFileNotFoundError\u001b[0m                         Traceback (most recent call last)",
      "\u001b[1;32m~\\AppData\\Local\\Temp\\ipykernel_30256\\3610031983.py\u001b[0m in \u001b[0;36m<module>\u001b[1;34m\u001b[0m\n\u001b[0;32m      1\u001b[0m \u001b[1;32mimport\u001b[0m \u001b[0mfitz\u001b[0m\u001b[1;33m\u001b[0m\u001b[1;33m\u001b[0m\u001b[0m\n\u001b[1;32m----> 2\u001b[1;33m \u001b[0mdoc\u001b[0m \u001b[1;33m=\u001b[0m \u001b[0mfitz\u001b[0m\u001b[1;33m.\u001b[0m\u001b[0mopen\u001b[0m\u001b[1;33m(\u001b[0m\u001b[0mfile_name\u001b[0m\u001b[1;33m)\u001b[0m\u001b[1;33m\u001b[0m\u001b[1;33m\u001b[0m\u001b[0m\n\u001b[0m\u001b[0;32m      3\u001b[0m \u001b[0mtext\u001b[0m \u001b[1;33m=\u001b[0m \u001b[1;33m{\u001b[0m\u001b[1;33m}\u001b[0m\u001b[1;33m\u001b[0m\u001b[1;33m\u001b[0m\u001b[0m\n\u001b[0;32m      4\u001b[0m \u001b[1;32mfor\u001b[0m \u001b[0mi\u001b[0m \u001b[1;32min\u001b[0m \u001b[0mrange\u001b[0m\u001b[1;33m(\u001b[0m\u001b[0mdoc\u001b[0m\u001b[1;33m.\u001b[0m\u001b[0mpage_count\u001b[0m\u001b[1;33m)\u001b[0m\u001b[1;33m:\u001b[0m\u001b[1;33m\u001b[0m\u001b[1;33m\u001b[0m\u001b[0m\n\u001b[0;32m      5\u001b[0m     \u001b[0mpage\u001b[0m \u001b[1;33m=\u001b[0m \u001b[0mdoc\u001b[0m\u001b[1;33m[\u001b[0m\u001b[0mi\u001b[0m\u001b[1;33m]\u001b[0m\u001b[1;33m\u001b[0m\u001b[1;33m\u001b[0m\u001b[0m\n",
      "\u001b[1;32mD:\\anaconda\\lib\\site-packages\\fitz\\fitz.py\u001b[0m in \u001b[0;36m__init__\u001b[1;34m(self, filename, stream, filetype, rect, width, height, fontsize)\u001b[0m\n\u001b[0;32m   3865\u001b[0m             \u001b[1;32mif\u001b[0m \u001b[1;32mnot\u001b[0m \u001b[0mos\u001b[0m\u001b[1;33m.\u001b[0m\u001b[0mpath\u001b[0m\u001b[1;33m.\u001b[0m\u001b[0mexists\u001b[0m\u001b[1;33m(\u001b[0m\u001b[0mfilename\u001b[0m\u001b[1;33m)\u001b[0m\u001b[1;33m:\u001b[0m\u001b[1;33m\u001b[0m\u001b[1;33m\u001b[0m\u001b[0m\n\u001b[0;32m   3866\u001b[0m                 \u001b[0mmsg\u001b[0m \u001b[1;33m=\u001b[0m \u001b[1;34mf\"no such file: '{filename}'\"\u001b[0m\u001b[1;33m\u001b[0m\u001b[1;33m\u001b[0m\u001b[0m\n\u001b[1;32m-> 3867\u001b[1;33m                 \u001b[1;32mraise\u001b[0m \u001b[0mFileNotFoundError\u001b[0m\u001b[1;33m(\u001b[0m\u001b[0mmsg\u001b[0m\u001b[1;33m)\u001b[0m\u001b[1;33m\u001b[0m\u001b[1;33m\u001b[0m\u001b[0m\n\u001b[0m\u001b[0;32m   3868\u001b[0m             \u001b[1;32melif\u001b[0m \u001b[1;32mnot\u001b[0m \u001b[0mos\u001b[0m\u001b[1;33m.\u001b[0m\u001b[0mpath\u001b[0m\u001b[1;33m.\u001b[0m\u001b[0misfile\u001b[0m\u001b[1;33m(\u001b[0m\u001b[0mfilename\u001b[0m\u001b[1;33m)\u001b[0m\u001b[1;33m:\u001b[0m\u001b[1;33m\u001b[0m\u001b[1;33m\u001b[0m\u001b[0m\n\u001b[0;32m   3869\u001b[0m                 \u001b[0mmsg\u001b[0m \u001b[1;33m=\u001b[0m \u001b[1;34mf\"'{filename}' is no file\"\u001b[0m\u001b[1;33m\u001b[0m\u001b[1;33m\u001b[0m\u001b[0m\n",
      "\u001b[1;31mFileNotFoundError\u001b[0m: no such file: 'PBSP Summary Document Final.pdf'"
     ]
    }
   ],
   "source": [
    "import fitz\n",
    "doc = fitz.open(file_name)\n",
    "text = {}\n",
    "for i in range(doc.page_count):\n",
    "    page = doc[i]\n",
    "    text[i]=page.get_text()"
   ]
  },
  {
   "cell_type": "code",
   "execution_count": 381,
   "id": "57820951",
   "metadata": {
    "ExecuteTime": {
     "end_time": "2022-10-10T12:03:29.307653Z",
     "start_time": "2022-10-10T12:03:29.303664Z"
    }
   },
   "outputs": [
    {
     "data": {
      "text/plain": [
       "{0: 'Positive Behaviour Support Plan (PBSP) \\nSummary Document \\n \\nWe envision that the user interface will contain six separate pages. Below is a description of each page and the text \\nboxes we propose to be included. \\n \\n \\nPAGE 1 – About the Person with Disability \\n \\n• \\nThis page contains the relevant information about the person with disability who is the focus of the PBSP. \\nThis information only needs to be entered once by the user. \\n \\nNOTE: We will need to develop checklist items to assess the content in this section. This section will mainly \\nbe looking for the absence of content (i.e., information is not provided). \\n \\nProvide a short summary about the person with disability who is the focus of the PBSP \\nEddie is 15 years old and lives at home with his parents.  Eddie’s brother Jack and sister Jill live locally however do \\nnot visit often due to Eddie’s challenging behaviours.  Eddie has a diagnosis of moderate intellectual disability and \\ninsulin dependent type 1 diabetes. \\n \\nEddie enjoys spending time with other males his age who include him in their activities and most of all being active.  \\nEddie is a very fast runner and loves to race others across any open spaces he finds himself in.  Due to Eddie’s fitness, \\nheight and long legs, he outruns most people.  Eddie will often laugh loudly whilst he is running.   \\n \\nEddie’s favourite things are spending time with his dad, running, wide open spaces, playing basketball and watching \\naeroplanes.  Upon hearing an aeroplane, Eddie will run from wherever he is to get a look at the aeroplane and will \\nlaugh loudly whilst looking up and waving at them.  Eddie goes to basketball training Tuesday and Thursday \\nafternoon, playing games with other teams most Saturdays. \\n \\nAt home Eddie requires prompting to attend to his personal hygiene needs and to assist daily activities.  Eddie \\nresponds well to being shown what to do then staying with him for support whilst he tries to imitate them.   \\n \\nEddie enjoys being outside in his back yard, in the sunshine, and often runs around without any real direction with \\na big smile on his face.   \\n \\nEddie is a good sleeper, putting himself to bed before 9.00 pm, waking between 6.00 and 7.00 in the morning each \\nday.  Eddie will generally always sleep through any disturbances during the night, however, if woken, it can take \\nsome time to encourage Eddie back to bed, rather than getting up to start his day.  If it is still dark outside this is \\neasier to do. \\n \\nEddie’s family report that Eddie shows signs of unease, such as tightened jaw, upper body and limbs, when in a \\nvehicle.  They also report that it is difficult to get Eddie into and out of any vehicle. \\n \\nEddie enjoys his food however does not appear to understand why he can’t eat the same food as others.  Family \\nand staff report behaviours of concern to be a regular occurrence at meal times both within the home and at school.  \\nEddie also does not like to have his insulin injection each day and family are always prepared for behaviours of \\nconcern such as hitting people at injection time which is generally at 8.00 am (following the advice of Eddie’s \\nspecialist).  A nutritionist has provided a detailed menu plan which family and school staff follow diligently.  Eddie \\ndoes not like to go and see the nutritionist and often family send her reports of how Eddie is going rather than \\ntaking him to see her. \\n \\nEddie attends St Lucia State High School and is in year 10.  Due to his learning needs he receives assistance from a \\nteacher’s aide in the classroom. The teacher provides differentiated curriculum and instruction as required due to \\nthe impact of his intellectual impairment on his learning.  When Eddie is supported he works well on academic tasks \\nand demonstrates a willingness to try hard. \\n',\n",
       " 1: ' \\nEddie usually attends school five days a week.  Unfortunately, due to Eddie’s ongoing use of physical aggression to \\nstaff and peers, Eddie was suspended from attending for a 2 week period in mid-October. \\n \\nThe relationship between Eddie and his fellow students can be both positive and negative.  When the students are \\nall engaged in preferred activities either with school staff or each other, there is a real sense of camaraderie and \\nfriendship.  However, Eddie will often instigate physical aggression, hitting or forcefully pushing other students, if \\nhe has had to wait for any period of time. \\n \\nEddie does well when surrounded by other young men, engaged in physical activities of any kind especially \\nbasketball and any game that involves running.  Eddie also uses positive body language such as smiling and shaking \\nhands with others. \\n \\nEddie is able to communicate most of his needs through the use of some single syllable words (i.e. yes and no in \\ncontext, help, hurt, run, now, dad, mum, Jack, Jill, out, why, ball, me, food, car, plane, fast, need - short for needle) \\nand gestures.  Eddie understands two to three step instructions and maximum 8 word sentences that are kept clear, \\nsimple and spaced apart.  His ability to use words to communicate significantly decreases leading up to and during \\nhis use of behaviours of concern. \\n \\nEddie responds well to large group activities [especially with other males] that involve physical activity and often \\nhas a big smile on his face at these times.  However, if Eddie arrives late and is unable to engage in a preferred \\nactivity, he will always respond with aggression to those who advise of his inability to join in.   When it is raining and \\noutdoor activities are cancelled, and everyone is inside, Eddie will generally respond with behaviours of concern \\nsuch as hitting and pushing other students, yelling loudly at others and property damage. \\n \\nEddie likes to know what is happening next, so having a routine is important to him.  If there are required changes \\nto the routine these need to be explained to him in advance, and preferably, emailed to his parents so that they can \\nreinforce the change in the evening before school.  If there is an unexpected or unexplained change, or if the \\nmaterials needed for an activity aren’t prepared, he can become agitated and upset. \\n \\nIn class he prefers to work in quieter areas and can become anxious and agitated when the classroom is noisy or \\nthere is a lot of activity.  Eddie can work well on academic tasks but will not take risks if he is unsure whether he will \\nable to complete the activity successfully.  When he finds the work difficult or too challenging he can refuse to \\nparticipate. \\n \\nEddie has a small friendship circle at school, generally with other students who include him in their sporting games \\nduring breaks.  Eddie often does not initiate interactions with the other students, usually only interacting when \\nother students initiate the interaction. \\n \\n \\n \\n',\n",
       " 2: 'PAGE 2 – Assessments and Data Gathering \\n \\n• \\nThis page contains the relevant information regarding the assessments undertaken, and the data gathered to \\ninform PBSP development. This information only needs to be entered once by the user. \\n \\nNOTE: We will need to develop checklist items to assess the content in this section. This section will mainly \\nbe looking for the absence of content (i.e., information is not provided). \\n \\nPersons consulted to prepare this PBSP (add/remove rows as required) \\nWho are they? \\nHow were they consulted? \\nMother \\nFace to face interview \\nFather \\nTelephone interview \\nTeacher \\nFace to face interview \\nIntegration aide \\nVideo conference interview \\nSports coordinator \\nFace to face interview \\nOutline the behavioural assessment approaches implemented to develop this PBSP \\nContextual Assessment Inventory completed by his teacher, observation (scatter plots) completed by his teacher \\nand integration aide, and Functional Assessment Interview (completed by his mother and teacher) \\nAdditional non-behavioural assessments undertaken or reviewed to inform the development of this PBSP \\nNone \\n \\n \\n \\n \\n',\n",
       " 3: 'PAGE 3 – Functional Behavioural Assessment \\n \\n• \\nWe envision that this page will start with a drop-down menu that allows the user to choose one of the five \\nfunctions of behaviour: \\no Avoidance/escape \\no Communication \\no Physical/sensory need \\no Seeking an object/activity \\no Other – please specify \\n \\n• \\nOnce they choose a function, the text boxes below would come up for the user to input information. \\n \\n• \\nFollowing this, the user will be asked if they want to include another function of behaviour. \\no If YES, the drop-down menu that allows the user to choose one of the five functions behaviour \\nappears again. Once a choice is made, these text boxes appear again. \\n▪ \\nRepeat this process until the user has no more functions to add. \\n \\nNOTE: The items on the existing BSPA-tool will be used to assess the content in this section. We need to \\nmake some additional modifications to the tool to assist in more precise scoring. \\n \\nFunction \\nAvoidance/escape \\nCommunication \\nPhysical/sensory \\nneed \\nSeeking an \\nobject/activity \\nOther – please \\nspecify \\n \\n \\nFunction – Name of function (either avoidance/escape, communication, physical/sensory need, seeking an \\nobject/activity, other – please specify) \\n \\nDescription of behaviours (include frequency, duration and severity) that align with this function \\nEddie hits staff and other students with his open hand or pushes them forcefully, daily, on average 2.5 incidents \\nper day. Incidents last on average 10 minutes and Minor injuries to others as a result of being slapped or pushed. \\nEddie rips up books and other teaching materials or throws objects around the room. This happens less than once \\na day, with an average of one or two incidents every couple of days. Incidents last on average 10 minutes and \\nthere is damage to classroom materials and/or students are injured if hit by flying objects. \\nSetting events, triggers and consequences related to these behaviours (add/remove rows as necessary) \\nSetting events  \\nTriggers \\nConsequences \\nNo breakfast \\nAsked to complete work in class \\nTeacher goes to Eddie to calm him \\ndown. He is often removed from the \\nclassroom. \\nNormal school routine has had a \\nchange \\n \\nGains teacher attention and escapes \\nLow blood sugar levels \\n \\n \\nA summary statement outlining the functional hypothesis \\nWhen Eddie is asked to complete work in class that he finds difficult or needs to complete independently he uses \\nphysical aggression or property damage, resulting in the teacher attending to him and him not completing the \\nrequired work. The physical aggression and property damage have the same functions, to gain the attention of the \\nteacher and to avoid work that he finds difficult or is not his preference. \\nProposed alternative or functionally equivalent replacement behaviour(s) \\nAsk teacher for help \\n \\n \\n',\n",
       " 4: 'Page 4 – Positive Behavioural Support Interventions \\n \\nGoals \\n \\nGoal(s) specific to the behaviours described \\nEddie will ask the teacher or the Aide for help by putting his hand up every time he needs help or a break. He will \\nachieve this by the end of June, 2021. \\nGoals specific to enhancing the person’s quality of life  \\nNone specified \\n \\n \\nStrategies \\n \\nEnvironmental changes to address setting events and triggers (changes to reduce and/or eliminate their influence) \\nTo manage the triggers of Eddie’s behaviour: \\n \\n• \\nWherever possible, teach concepts using examples and activities that interest Eddie \\n• \\nSet teaching activities in smaller, time limited “chunks”, no longer than 10 minutes each time. \\n• \\n Do assignments in small groups where possible, with students Eddie gets on well with. \\n• \\nRemind Eddie of the planned routine for doing classwork before each break so that when he returns to \\nclass he understands what happens next. \\n• \\nClosely supervise Eddie to identify quickly when he needs assistance or is drifting off task. When he is \\nlooking as though he is struggling or becoming distracted the teacher will move to him and ask him to \\nshow his work or whether he needs assistance. The teacher will provide him with assistance or \\nencouragement, according to his progress. \\n• \\nRecognise that it is likely that Eddie gets tired and has difficulty concentrating in the late afternoon so \\nmake sure that the work he is given is interesting for him and not too challenging. \\n \\nTo assist, school management will:  \\n \\n• \\nContinue to supply a teacher aide that will enable Eddie to be given targeted instruction and support at \\ntimes when he needs to engage in academic work that he finds difficult and to support the development \\nof his social and communication skills. \\n• \\nAllocate relief teachers known to Eddie whenever possible to reduce the effects of change in teachers \\nwhen the regular teacher is not available. \\n• \\nCommunicate regularly with Eddie’s parents to inform them of changes to the school routine or other \\nmatters that need to be reinforced with Eddie to assist in his understanding. \\n• \\nProvide coordination of Eddie’s involvement in school activities outside the classroom with other school \\npersonnel, including the Sports Coordinator to ensure that he is able to participate. \\n \\nTo assist, teachers will: \\n \\n• \\nEnsure that Eddie’s blood sugar level is tested at the specified times each day and that he eats the food he \\nhas brought with him. \\n• \\nDevelop lesson plans to differentiate the instruction suited to Eddie’s learning needs and ensure that the \\nteacher’s aide and other teachers are familiar with these lesson plans. \\n• \\nProvide teaching that suits Eddie’s learning needs. \\n• \\nUtilise a visual timetable for all students on the whiteboard each day. \\n• \\nDevelop and use social stories to assist Eddie in understanding daily routines, changes in routine and social \\ninteractions. \\n• \\nArrange the classroom to minimise noise and distractions for Eddie, particularly when he is working. \\n• \\nAdvise and support the teacher aide before each lesson in the work/activities to be completed by Eddie \\nand the supports that need to be provided to him. \\n• \\nTeam Eddie up with students he gets along well with. \\n',\n",
       " 5: '• \\nDevelop and implement a planned routine for the transition into class at the beginning of the day for all \\nstudents to ensure that they move into the room and quickly settle down at their tables. \\n \\nTeaching of the alternative or functionally equivalent replacement behaviour(s) (e.g., description of the teaching \\nstrategy and materials needed) \\nWhat: When Eddie is doing work in the classroom, he will ask for help or for a break from the work he is doing by \\nputting his hand up and getting the teacher’s attention. \\n \\nHow: The teacher’s aide will implement the teaching strategy that has been developed by the teacher. \\n \\nEach morning before Eddie commences his school work the teacher’s aide will teach him before the rest of the \\nstudents arrive.  Using explicit instruction and role play, the teacher’s aide will teach each step of asking for help or \\nfor a break (hand up, wait for teacher to acknowledge you, say “need help” or “need break”, wait for teacher to \\nrespond). This will be followed up with a social story (using pictures to represent the situation where Eddie needs \\nhelp or a break and would like to get the teacher’s attention) that can be used to remind Eddie how to use the skill \\nhe has learned. \\n \\nThe teaching strategy will explained to all staff who work with Eddie and data on his progress against each of the \\nsteps will be recorded.  Teaching will cease when Eddie demonstrates that he has mastered all aspects of the skill \\nand prompting will cease after he has been successfully using the skill every time he is prompted for a period of \\none month. \\n \\nWho: The classroom teacher and the allocated teacher’s aide. \\n \\nWhen: A dedicated time for teaching the skill away from the other students will occur once a day. The skill will also \\nbe taught at naturally occurring ties when Eddie needs assistance or a break. \\n \\nWhere: In the classroom. \\n \\nMaterials: No materials are required however dedicated time from the teacher’s aide will be needed. \\n \\nOnce Eddie has mastered this skill a teaching plan will be developed and implemented to teach him wait for \\nassistance. \\nOther strategies (e.g., social, independence, coping, tolerance, etc.) \\nEddie enjoys and values being included in activities at school.  His quality of life would be improved if he had more \\nopportunities for social interaction with his peers.  Strategies that will be implemented are; \\n \\n• \\nDevelop a buddy system with the students who already interact well with Eddie and support them to \\nactively engage with Eddie and encourage him to participate in their sporting games with other students. \\nThe aim is to widen the circle of students he can interact with. \\n• \\nDuring breaks the supervising teacher in the playground will assist Eddie in asking other students to \\ninclude him in their games. \\n \\nGiven Eddie’s sensitivity to noise and activity and need for routine, the following strategies will be used in the \\nclassroom; \\n \\n• \\nEnsure that he sits in an area in the classroom that has minimal distractions and noise interruption.  This \\nmay be close to the front of the class, and near the teacher so that noise and distraction is behind him. \\n• \\nHave regular communication with his parents to keep them informed of any changes to routine and his \\nprogress.  Their preference is for email contact. \\n• \\nUse social stories wherever possible to assist Eddie in understanding routines and behavioural \\nexpectations (such as how to ask to be included in games). \\n• \\nFor transitions, Eddie will be encouraged to put on headphones and listen to music in a quiet area of the \\nclassroom until all of the other students have settled down in their seats. Once the other students have \\nsettled he is to take the headphones off and engage in the lesson. \\n \\n',\n",
       " 6: 'Eddie enjoys running and other active sports.  This is an important opportunity for Eddie to increase his \\nparticipation in school activities. Strategies include; \\n• \\nSign Eddie up for the school basketball team and cross country running teams. \\n• \\nEddie’s father has offered to volunteer for school sports carnivals. Ensure that Mr Yahoo is invited along so \\nthat he can coordinate Eddie and a couple of other students to assist in the organising of the events, such \\nas getting equipment ready, scoring etc. \\n• \\nDuring other sports activities in which he is not participating, Eddie will be asked by the coordinating \\nteacher to assist in the scoring. \\n \\nEddie will also be supported to take an active role in non-sporting activities at the school, such as; \\n• \\nAssisting the teacher in organising the school assembly. \\n• \\nAssisting with food preparation at the breakfast club. \\n• \\nEnrolling him in the Buddy reading program. \\n \\nEddie will be supported to attend the “Best Mates” social club one lunchtime per week. This is a play and activities \\nbased program with the aim of developing student interactions and social skills. Eddie’s friends will also be \\nencouraged to attend the sessions he attends. \\n \\n \\nReinforcement for Skill Development \\n \\nProposed reinforcers \\nAttention, praise and tokens \\nSchedule of reinforcement \\n• \\nAlways provide Eddie with attention when he begins to attempt the work and makes effort.  Gradually \\nwithdraw this attention as he attends to his work for longer periods of time. \\n• \\nProvide praise for completed assignments. \\n• \\nProvide praise when he asks for help or requests a break (the desired behaviour). \\n• \\nWhen Eddie has completed work in the classroom (with and without assistance) he will be provided with a \\ntoken to put on the chart on display on the classroom wall. At the end of the day when he has collected at \\nleast 5 tokens he will able to spend the last ½ hour of the school day engaging in an activity of his choice \\nand interest. Eddie likes to play games on the iPad so this would be his preferred activity. \\nHow were these reinforcers identified? \\nA preference assessment was undertaken by the behaviour support practitioner to ascertain what Eddie’s \\npreferred activities are. \\n \\n \\nDe-Escalation - Reactive strategies for challenging behaviours \\n \\nHow to prompt the alternative or functionally replacement behaviour(s) \\nIf Eddie begins to demonstrate the precursor behaviours to him hitting or engaging in property damage (getting \\nout of his chair, pacing, refusing to make eye contact) go over to him, get his attention and ask him if he would like \\nsome help. If Eddie nods his head sit down at the table with him and provide him with the assistance he needs. Do \\nnot delay in providing the assistance.  When he has sat down and when it is appropriate to do so, remind Eddie of \\nthe ways that he can ask for help from the teacher of the Aide.  When he completes the work support him to \\nengage in a preferred activity before moving on to the next activity. \\nStrategies to ensure the safety of the person and/or others \\nIf Eddie escalates and begins to engage in property damage such as throwing objects and ripping worksheets move \\naway from Eddie. Do not use threatening postures, a loud voice, or tell Eddie to calm down. Maintain the \\nappearance of being calm. If you can, distract Eddie by asking whether he would like to go outside and play \\nbasketball. If Eddie is hitting or attempting to hit people follow the school’s policy and procedures for dealing with \\nbehaviours that are a risk of harm to others. \\n',\n",
       " 7: 'Post-incident debriefing with the person with disability and/or parents, support staff, etc. \\nWhen Eddie has stopped the behaviour and has de-escalated, at the appropriate time speak to him alone to \\nremind him of the ways he can ask for help or a break from the work he is doing. \\n \\n \\n \\n',\n",
       " 8: 'PAGE 5 – Restrictive Intervention \\n \\n• \\nWe envision that this page will start with a YES/NO item that asks if restrictive interventions are proposed \\nfor use.  \\n \\n• \\nThen, a drop-down menu will come up that allows the user to choose one of five restrictive intervention \\noptions: \\no Chemical restraint \\no Physical restraint \\no Mechanical restraint \\no Environmental restraint \\no Seclusion \\n \\n• \\nOnce they choose a restrictive intervention option, the appropriate set of text boxes (see below) would come \\nup for the user to input information. \\n \\n• \\nFollowing this, the user will be asked if they want to include another restrictive intervention. \\no If YES, the drop-down menu that allows the user to choose one of the five restrictive intervention \\noptions appears again. Once a choice is made, the appropriate set of text boxes appear again. \\n▪ \\nRepeat this process until the user has no more restrictive interventions to add. \\n \\nNOTE: We will need to develop checklist items to assess the content in this section. This section will mainly \\nbe looking for the absence of content (i.e., information is not provided). \\n \\nAre you proposed to use restrictive interventions? \\nYes \\nNo \\n \\nType of restrictive intervention \\n \\nRestrictive intervention \\nChemical \\nPhysical \\nMechanical \\nEnvironmental \\nSeclusion \\n \\nChemical Restraint \\n \\nMedication(s) that will be used (e.g., name, dosage, frequency, administration, route, prescriber) \\nName \\nDosage \\nFrequency \\nAdministration \\nRoute \\nPrescriber \\n \\n \\n \\n \\n \\n \\nPositive behavioural support strategies to be used before the PRN use of the medication \\n \\nCircumstance(s) in which the medication(s) will be used \\n \\nProcedure for administering the medication(s), including observation and monitoring of side-effects \\n \\nHow will chemical restraint be gradually reduced as behavioural goals are achieved by the person? \\n \\nWhy is the use of this medication the least restrictive way of ensuring the safety of the person and/or others? \\n \\n',\n",
       " 9: 'Social validity of the restrictive practice \\nHow did you assess the acceptability of this practice? \\nWho did you consult with to assess this? \\n \\n \\nAuthorisation for the use of restrictive practice \\nAuthorising body \\nApproval period \\n \\n \\n \\n \\nPhysical \\n \\nDescription of the restraint(s) to be used \\n \\nPositive behavioural support strategies to be used before the use of the restraint \\n \\nCircumstance(s) in which the restraint will be used \\n \\nProcedure for using the restraint, including observation, monitoring and maximum time period \\n \\nHow will the restraint be gradually reduced as behavioural goals are achieved by the person? \\n \\nWhy is the use of this restraint the least restrictive way of ensuring the safety of the person and/or others? \\n \\nSocial validity of the restrictive practice \\nHow did you assess the acceptability of this practice? \\nWho did you consult with to assess this? \\n \\n \\nAuthorisation for the use of restrictive practice \\nAuthorising body \\nApproval period \\n \\n \\n \\n \\nMechanical \\n \\nDescription of the restraint(s) to be used \\n \\nFrequency of use \\nRoutine use \\nAs needed \\nPositive behavioural support strategies to be used before the as needed use of the restraint \\n \\nCircumstance(s) in which the restraint will be used \\n \\n',\n",
       " 10: 'Procedure for using the restraint, including observation, monitoring and maximum time period \\n \\nHow do you know this restraint is safe to use? \\n \\nHow will the restraint be gradually reduced as behavioural goals are achieved by the person? \\n \\nWhy is the use of this practice the least restrictive way of ensuring the safety of the person and/or others? \\n \\nSocial validity of the practice \\nHow did you assess the acceptability of this practice? \\nWho did you consult with to assess this? \\n \\n \\nAuthorisation for the use of the practices \\nAuthorising body \\nApproval period \\n \\n \\n \\n \\nEnvironmental \\n \\nDescription of the restraint(s) to be used \\n \\nFrequency of use \\nRoutine use \\nAs needed \\nPositive behavioural support strategies to be used before the as needed use of the restraint \\n \\nCircumstance(s) in which the restraint will be used \\n \\nWhat is the person with disability prevented from accessing? \\n \\nProcedure for using the restraint, including observation and monitoring  \\n \\nWill other people be impacted by the use of this restraint? \\nYes \\nNo \\nIf YES, how will impact on others be minimised? \\n \\nHow will the restraint be gradually reduced as behavioural goals are achieved by the person? \\n \\nWhy is the use of this practice the least restrictive way of ensuring the safety of the person and/or others? \\n \\n',\n",
       " 11: 'Social validity of the practice \\nHow did you assess the acceptability of this practice? \\nWho did you consult with to assess this? \\n \\n \\nAuthorisation for the use of the practices \\nAuthorising body \\nApproval period \\n \\n \\n \\n \\nSeclusion \\n \\nFrequency of use \\nRoutine use \\nAs needed \\nPositive behavioural support strategies to be used before the as needed use of seclusion \\n \\nCircumstance(s) in which seclusion will be used \\n \\nThe maximum frequency of seclusion per day, week and/or month; and for how long (minutes/hours) \\n \\nProcedure for using seclusion, including observation and monitoring \\n \\nHow will seclusion be gradually reduced as behavioural goals are achieved by the person? \\n \\nWhy is the use seclusion the least restrictive way of ensuring the safety of the person and/or others? \\n \\nSocial validity of seclusion \\nHow did you assess the acceptability of this practice? \\nWho did you consult with to assess this? \\n \\n \\nAuthorisation for the use of restrictive practices \\nAuthorising body \\nApproval period \\n \\n \\n \\n \\n \\n',\n",
       " 12: 'PAGE 6 – PBSP Implementation \\n \\n• \\nThis page contains the relevant information about the PBSP implementation process. This information only \\nneeds to be entered once by the user. \\n \\nNOTE: We will need to develop checklist items to assess the content in this section. This section will mainly \\nbe looking for the absence of content (i.e., information is not provided). \\n \\nImplementation \\n \\nPeople involved in the implementation of this PBSP \\nTeacher \\nIntegration aide \\nOther school staff \\n \\n \\nHow will implementers of this PBSP be trained to implement the proposed interventions? \\nStrategy \\nPerson(s) responsible \\nFace to face training to train integration aide how to \\nimplement the teaching strategy \\nTeacher \\nObservation of integration aide implementing the \\nteaching strategy and providing feedback on three \\nseparate occasions \\nTeacher \\nOutline the implementation plan \\nAction \\nPerson(s) responsible \\nEach morning before Eddie commences his schoolwork, \\nthe teacher’s aide will teach him how to ask for help \\nbefore the rest of the students arrive \\nIntegration aide \\nRecord the use of the target behaviours via the data \\nrecording sheet in class and in the playground \\nTeacher, integration aide, other school staff \\nIncident reports will be completed for instances of \\nphysical aggression and property damage in order to \\nrecord the context of the behaviour, what happened \\nimmediately beforehand and what happened \\nimmediately afterwards \\nTeacher, integration aide, other school staff \\nReview the week’s data at the end of each week to \\nmonitor any changes. \\nTeacher \\nHow will implementers of this PBSP communicate with one another to discuss implementation? \\nStrategy \\nPerson(s) responsible \\nStakeholder meetings to be held monthly \\nBehaviour support practitioner, the teacher, and \\nEddie’s parents \\nHow will PBSP implementation and goal achievement be reviewed and monitored? \\nStrategy \\nPerson(s) responsible \\nData will be analysed, including graphing the \\nscatterplot data, and provide a review report to the \\nstakeholder meetings. \\nBehaviour support practitioner \\nMonthly stakeholder meeting will be used to review if \\nthe target behaviour is not decreasing. Consideration \\nand identification of any required amendments to this \\nplan will also happen in this meeting. \\nBehaviour support practitioner, the teacher, and \\nEddie’s parents \\nTimeframe for plan review \\nFirst review: 10/03/2021; 6 month review: May 2021; End of year review: November 2021 \\n \\n',\n",
       " 13: ' \\nSocial Validity \\n \\nHow did you assess the acceptability of the interventions proposed in this PBSP? \\nRelevant stakeholders were provided the plan to read. They then answered a questionnaire with items assessing \\nsocial validity. All stakeholders consulted indicated that the interventions proposed were acceptable. \\nWho did you consult with? \\nParents, teachers, integration aide \\n \\n'}"
      ]
     },
     "execution_count": 381,
     "metadata": {},
     "output_type": "execute_result"
    }
   ],
   "source": [
    "text"
   ]
  },
  {
   "cell_type": "code",
   "execution_count": 382,
   "id": "2396a24b",
   "metadata": {
    "ExecuteTime": {
     "end_time": "2022-10-10T12:03:29.762479Z",
     "start_time": "2022-10-10T12:03:29.755478Z"
    }
   },
   "outputs": [
    {
     "data": {
      "text/plain": [
       "625"
      ]
     },
     "execution_count": 382,
     "metadata": {},
     "output_type": "execute_result"
    }
   ],
   "source": [
    "text[0].find(\"Provide a short summary about the person with disability who is the focus of the PBSP\")"
   ]
  },
  {
   "cell_type": "code",
   "execution_count": 383,
   "id": "df58fa22",
   "metadata": {
    "ExecuteTime": {
     "end_time": "2022-10-10T12:03:30.261455Z",
     "start_time": "2022-10-10T12:03:30.251453Z"
    }
   },
   "outputs": [
    {
     "data": {
      "text/plain": [
       "'Positive Behaviour Support Plan (PBSP)  Summary Document    We envision that the user interface will contain six separate pages. Below is a description of each page and the text  boxes we propose to be included.      PAGE 1 – About the Person with Disability    •  This page contains the relevant information about the person with disability who is the focus of the PBSP.  This information only needs to be entered once by the user.    NOTE: We will need to develop checklist items to assess the content in this section. This section will mainly  be looking for the absence of content (i.e., information is not provided).    Provide a short summary about the person with disability who is the focus of the PBSP  Eddie is 15 years old and lives at home with his parents.  Eddie’s brother Jack and sister Jill live locally however do  not visit often due to Eddie’s challenging behaviours.  Eddie has a diagnosis of moderate intellectual disability and  insulin dependent type 1 diabetes.    Eddie enjoys spending time with other males his age who include him in their activities and most of all being active.   Eddie is a very fast runner and loves to race others across any open spaces he finds himself in.  Due to Eddie’s fitness,  height and long legs, he outruns most people.  Eddie will often laugh loudly whilst he is running.      Eddie’s favourite things are spending time with his dad, running, wide open spaces, playing basketball and watching  aeroplanes.  Upon hearing an aeroplane, Eddie will run from wherever he is to get a look at the aeroplane and will  laugh loudly whilst looking up and waving at them.  Eddie goes to basketball training Tuesday and Thursday  afternoon, playing games with other teams most Saturdays.    At home Eddie requires prompting to attend to his personal hygiene needs and to assist daily activities.  Eddie  responds well to being shown what to do then staying with him for support whilst he tries to imitate them.      Eddie enjoys being outside in his back yard, in the sunshine, and often runs around without any real direction with  a big smile on his face.      Eddie is a good sleeper, putting himself to bed before 9.00 pm, waking between 6.00 and 7.00 in the morning each  day.  Eddie will generally always sleep through any disturbances during the night, however, if woken, it can take  some time to encourage Eddie back to bed, rather than getting up to start his day.  If it is still dark outside this is  easier to do.    Eddie’s family report that Eddie shows signs of unease, such as tightened jaw, upper body and limbs, when in a  vehicle.  They also report that it is difficult to get Eddie into and out of any vehicle.    Eddie enjoys his food however does not appear to understand why he can’t eat the same food as others.  Family  and staff report behaviours of concern to be a regular occurrence at meal times both within the home and at school.   Eddie also does not like to have his insulin injection each day and family are always prepared for behaviours of  concern such as hitting people at injection time which is generally at 8.00 am (following the advice of Eddie’s  specialist).  A nutritionist has provided a detailed menu plan which family and school staff follow diligently.  Eddie  does not like to go and see the nutritionist and often family send her reports of how Eddie is going rather than  taking him to see her.    Eddie attends St Lucia State High School and is in year 10.  Due to his learning needs he receives assistance from a  teacher’s aide in the classroom. The teacher provides differentiated curriculum and instruction as required due to  the impact of his intellectual impairment on his learning.  When Eddie is supported he works well on academic tasks  and demonstrates a willingness to try hard.    Eddie usually attends school five days a week.  Unfortunately, due to Eddie’s ongoing use of physical aggression to  staff and peers, Eddie was suspended from attending for a 2 week period in mid-October.    The relationship between Eddie and his fellow students can be both positive and negative.  When the students are  all engaged in preferred activities either with school staff or each other, there is a real sense of camaraderie and  friendship.  However, Eddie will often instigate physical aggression, hitting or forcefully pushing other students, if  he has had to wait for any period of time.    Eddie does well when surrounded by other young men, engaged in physical activities of any kind especially  basketball and any game that involves running.  Eddie also uses positive body language such as smiling and shaking  hands with others.    Eddie is able to communicate most of his needs through the use of some single syllable words (i.e. yes and no in  context, help, hurt, run, now, dad, mum, Jack, Jill, out, why, ball, me, food, car, plane, fast, need - short for needle)  and gestures.  Eddie understands two to three step instructions and maximum 8 word sentences that are kept clear,  simple and spaced apart.  His ability to use words to communicate significantly decreases leading up to and during  his use of behaviours of concern.    Eddie responds well to large group activities [especially with other males] that involve physical activity and often  has a big smile on his face at these times.  However, if Eddie arrives late and is unable to engage in a preferred  activity, he will always respond with aggression to those who advise of his inability to join in.   When it is raining and  outdoor activities are cancelled, and everyone is inside, Eddie will generally respond with behaviours of concern  such as hitting and pushing other students, yelling loudly at others and property damage.    Eddie likes to know what is happening next, so having a routine is important to him.  If there are required changes  to the routine these need to be explained to him in advance, and preferably, emailed to his parents so that they can  reinforce the change in the evening before school.  If there is an unexpected or unexplained change, or if the  materials needed for an activity aren’t prepared, he can become agitated and upset.    In class he prefers to work in quieter areas and can become anxious and agitated when the classroom is noisy or  there is a lot of activity.  Eddie can work well on academic tasks but will not take risks if he is unsure whether he will  able to complete the activity successfully.  When he finds the work difficult or too challenging he can refuse to  participate.    Eddie has a small friendship circle at school, generally with other students who include him in their sporting games  during breaks.  Eddie often does not initiate interactions with the other students, usually only interacting when  other students initiate the interaction.        PAGE 2 – Assessments and Data Gathering    •  This page contains the relevant information regarding the assessments undertaken, and the data gathered to  inform PBSP development. This information only needs to be entered once by the user.    NOTE: We will need to develop checklist items to assess the content in this section. This section will mainly  be looking for the absence of content (i.e., information is not provided).    Persons consulted to prepare this PBSP (add/remove rows as required)  Who are they?  How were they consulted?  Mother  Face to face interview  Father  Telephone interview  Teacher  Face to face interview  Integration aide  Video conference interview  Sports coordinator  Face to face interview  Outline the behavioural assessment approaches implemented to develop this PBSP  Contextual Assessment Inventory completed by his teacher, observation (scatter plots) completed by his teacher  and integration aide, and Functional Assessment Interview (completed by his mother and teacher)  Additional non-behavioural assessments undertaken or reviewed to inform the development of this PBSP  None          PAGE 3 – Functional Behavioural Assessment    •  We envision that this page will start with a drop-down menu that allows the user to choose one of the five  functions of behaviour:  o Avoidance/escape  o Communication  o Physical/sensory need  o Seeking an object/activity  o Other – please specify    •  Once they choose a function, the text boxes below would come up for the user to input information.    •  Following this, the user will be asked if they want to include another function of behaviour.  o If YES, the drop-down menu that allows the user to choose one of the five functions behaviour  appears again. Once a choice is made, these text boxes appear again.  ▪  Repeat this process until the user has no more functions to add.    NOTE: The items on the existing BSPA-tool will be used to assess the content in this section. We need to  make some additional modifications to the tool to assist in more precise scoring.    Function  Avoidance/escape  Communication  Physical/sensory  need  Seeking an  object/activity  Other – please  specify      Function – Name of function (either avoidance/escape, communication, physical/sensory need, seeking an  object/activity, other – please specify)    Description of behaviours (include frequency, duration and severity) that align with this function  Eddie hits staff and other students with his open hand or pushes them forcefully, daily, on average 2.5 incidents  per day. Incidents last on average 10 minutes and Minor injuries to others as a result of being slapped or pushed.  Eddie rips up books and other teaching materials or throws objects around the room. This happens less than once  a day, with an average of one or two incidents every couple of days. Incidents last on average 10 minutes and  there is damage to classroom materials and/or students are injured if hit by flying objects.  Setting events, triggers and consequences related to these behaviours (add/remove rows as necessary)  Setting events   Triggers  Consequences  No breakfast  Asked to complete work in class  Teacher goes to Eddie to calm him  down. He is often removed from the  classroom.  Normal school routine has had a  change    Gains teacher attention and escapes  Low blood sugar levels      A summary statement outlining the functional hypothesis  When Eddie is asked to complete work in class that he finds difficult or needs to complete independently he uses  physical aggression or property damage, resulting in the teacher attending to him and him not completing the  required work. The physical aggression and property damage have the same functions, to gain the attention of the  teacher and to avoid work that he finds difficult or is not his preference.  Proposed alternative or functionally equivalent replacement behaviour(s)  Ask teacher for help      Page 4 – Positive Behavioural Support Interventions    Goals    Goal(s) specific to the behaviours described  Eddie will ask the teacher or the Aide for help by putting his hand up every time he needs help or a break. He will  achieve this by the end of June, 2021.  Goals specific to enhancing the person’s quality of life   None specified      Strategies    Environmental changes to address setting events and triggers (changes to reduce and/or eliminate their influence)  To manage the triggers of Eddie’s behaviour:    •  Wherever possible, teach concepts using examples and activities that interest Eddie  •  Set teaching activities in smaller, time limited “chunks”, no longer than 10 minutes each time.  •   Do assignments in small groups where possible, with students Eddie gets on well with.  •  Remind Eddie of the planned routine for doing classwork before each break so that when he returns to  class he understands what happens next.  •  Closely supervise Eddie to identify quickly when he needs assistance or is drifting off task. When he is  looking as though he is struggling or becoming distracted the teacher will move to him and ask him to  show his work or whether he needs assistance. The teacher will provide him with assistance or  encouragement, according to his progress.  •  Recognise that it is likely that Eddie gets tired and has difficulty concentrating in the late afternoon so  make sure that the work he is given is interesting for him and not too challenging.    To assist, school management will:     •  Continue to supply a teacher aide that will enable Eddie to be given targeted instruction and support at  times when he needs to engage in academic work that he finds difficult and to support the development  of his social and communication skills.  •  Allocate relief teachers known to Eddie whenever possible to reduce the effects of change in teachers  when the regular teacher is not available.  •  Communicate regularly with Eddie’s parents to inform them of changes to the school routine or other  matters that need to be reinforced with Eddie to assist in his understanding.  •  Provide coordination of Eddie’s involvement in school activities outside the classroom with other school  personnel, including the Sports Coordinator to ensure that he is able to participate.    To assist, teachers will:    •  Ensure that Eddie’s blood sugar level is tested at the specified times each day and that he eats the food he  has brought with him.  •  Develop lesson plans to differentiate the instruction suited to Eddie’s learning needs and ensure that the  teacher’s aide and other teachers are familiar with these lesson plans.  •  Provide teaching that suits Eddie’s learning needs.  •  Utilise a visual timetable for all students on the whiteboard each day.  •  Develop and use social stories to assist Eddie in understanding daily routines, changes in routine and social  interactions.  •  Arrange the classroom to minimise noise and distractions for Eddie, particularly when he is working.  •  Advise and support the teacher aide before each lesson in the work/activities to be completed by Eddie  and the supports that need to be provided to him.  •  Team Eddie up with students he gets along well with.  •  Develop and implement a planned routine for the transition into class at the beginning of the day for all  students to ensure that they move into the room and quickly settle down at their tables.    Teaching of the alternative or functionally equivalent replacement behaviour(s) (e.g., description of the teaching  strategy and materials needed)  What: When Eddie is doing work in the classroom, he will ask for help or for a break from the work he is doing by  putting his hand up and getting the teacher’s attention.    How: The teacher’s aide will implement the teaching strategy that has been developed by the teacher.    Each morning before Eddie commences his school work the teacher’s aide will teach him before the rest of the  students arrive.  Using explicit instruction and role play, the teacher’s aide will teach each step of asking for help or  for a break (hand up, wait for teacher to acknowledge you, say “need help” or “need break”, wait for teacher to  respond). This will be followed up with a social story (using pictures to represent the situation where Eddie needs  help or a break and would like to get the teacher’s attention) that can be used to remind Eddie how to use the skill  he has learned.    The teaching strategy will explained to all staff who work with Eddie and data on his progress against each of the  steps will be recorded.  Teaching will cease when Eddie demonstrates that he has mastered all aspects of the skill  and prompting will cease after he has been successfully using the skill every time he is prompted for a period of  one month.    Who: The classroom teacher and the allocated teacher’s aide.    When: A dedicated time for teaching the skill away from the other students will occur once a day. The skill will also  be taught at naturally occurring ties when Eddie needs assistance or a break.    Where: In the classroom.    Materials: No materials are required however dedicated time from the teacher’s aide will be needed.    Once Eddie has mastered this skill a teaching plan will be developed and implemented to teach him wait for  assistance.  Other strategies (e.g., social, independence, coping, tolerance, etc.)  Eddie enjoys and values being included in activities at school.  His quality of life would be improved if he had more  opportunities for social interaction with his peers.  Strategies that will be implemented are;    •  Develop a buddy system with the students who already interact well with Eddie and support them to  actively engage with Eddie and encourage him to participate in their sporting games with other students.  The aim is to widen the circle of students he can interact with.  •  During breaks the supervising teacher in the playground will assist Eddie in asking other students to  include him in their games.    Given Eddie’s sensitivity to noise and activity and need for routine, the following strategies will be used in the  classroom;    •  Ensure that he sits in an area in the classroom that has minimal distractions and noise interruption.  This  may be close to the front of the class, and near the teacher so that noise and distraction is behind him.  •  Have regular communication with his parents to keep them informed of any changes to routine and his  progress.  Their preference is for email contact.  •  Use social stories wherever possible to assist Eddie in understanding routines and behavioural  expectations (such as how to ask to be included in games).  •  For transitions, Eddie will be encouraged to put on headphones and listen to music in a quiet area of the  classroom until all of the other students have settled down in their seats. Once the other students have  settled he is to take the headphones off and engage in the lesson.    Eddie enjoys running and other active sports.  This is an important opportunity for Eddie to increase his  participation in school activities. Strategies include;  •  Sign Eddie up for the school basketball team and cross country running teams.  •  Eddie’s father has offered to volunteer for school sports carnivals. Ensure that Mr Yahoo is invited along so  that he can coordinate Eddie and a couple of other students to assist in the organising of the events, such  as getting equipment ready, scoring etc.  •  During other sports activities in which he is not participating, Eddie will be asked by the coordinating  teacher to assist in the scoring.    Eddie will also be supported to take an active role in non-sporting activities at the school, such as;  •  Assisting the teacher in organising the school assembly.  •  Assisting with food preparation at the breakfast club.  •  Enrolling him in the Buddy reading program.    Eddie will be supported to attend the “Best Mates” social club one lunchtime per week. This is a play and activities  based program with the aim of developing student interactions and social skills. Eddie’s friends will also be  encouraged to attend the sessions he attends.      Reinforcement for Skill Development    Proposed reinforcers  Attention, praise and tokens  Schedule of reinforcement  •  Always provide Eddie with attention when he begins to attempt the work and makes effort.  Gradually  withdraw this attention as he attends to his work for longer periods of time.  •  Provide praise for completed assignments.  •  Provide praise when he asks for help or requests a break (the desired behaviour).  •  When Eddie has completed work in the classroom (with and without assistance) he will be provided with a  token to put on the chart on display on the classroom wall. At the end of the day when he has collected at  least 5 tokens he will able to spend the last ½ hour of the school day engaging in an activity of his choice  and interest. Eddie likes to play games on the iPad so this would be his preferred activity.  How were these reinforcers identified?  A preference assessment was undertaken by the behaviour support practitioner to ascertain what Eddie’s  preferred activities are.      De-Escalation - Reactive strategies for challenging behaviours    How to prompt the alternative or functionally replacement behaviour(s)  If Eddie begins to demonstrate the precursor behaviours to him hitting or engaging in property damage (getting  out of his chair, pacing, refusing to make eye contact) go over to him, get his attention and ask him if he would like  some help. If Eddie nods his head sit down at the table with him and provide him with the assistance he needs. Do  not delay in providing the assistance.  When he has sat down and when it is appropriate to do so, remind Eddie of  the ways that he can ask for help from the teacher of the Aide.  When he completes the work support him to  engage in a preferred activity before moving on to the next activity.  Strategies to ensure the safety of the person and/or others  If Eddie escalates and begins to engage in property damage such as throwing objects and ripping worksheets move  away from Eddie. Do not use threatening postures, a loud voice, or tell Eddie to calm down. Maintain the  appearance of being calm. If you can, distract Eddie by asking whether he would like to go outside and play  basketball. If Eddie is hitting or attempting to hit people follow the school’s policy and procedures for dealing with  behaviours that are a risk of harm to others.  Post-incident debriefing with the person with disability and/or parents, support staff, etc.  When Eddie has stopped the behaviour and has de-escalated, at the appropriate time speak to him alone to  remind him of the ways he can ask for help or a break from the work he is doing.        PAGE 5 – Restrictive Intervention    •  We envision that this page will start with a YES/NO item that asks if restrictive interventions are proposed  for use.     •  Then, a drop-down menu will come up that allows the user to choose one of five restrictive intervention  options:  o Chemical restraint  o Physical restraint  o Mechanical restraint  o Environmental restraint  o Seclusion    •  Once they choose a restrictive intervention option, the appropriate set of text boxes (see below) would come  up for the user to input information.    •  Following this, the user will be asked if they want to include another restrictive intervention.  o If YES, the drop-down menu that allows the user to choose one of the five restrictive intervention  options appears again. Once a choice is made, the appropriate set of text boxes appear again.  ▪  Repeat this process until the user has no more restrictive interventions to add.    NOTE: We will need to develop checklist items to assess the content in this section. This section will mainly  be looking for the absence of content (i.e., information is not provided).    Are you proposed to use restrictive interventions?  Yes  No    Type of restrictive intervention    Restrictive intervention  Chemical  Physical  Mechanical  Environmental  Seclusion    Chemical Restraint    Medication(s) that will be used (e.g., name, dosage, frequency, administration, route, prescriber)  Name  Dosage  Frequency  Administration  Route  Prescriber              Positive behavioural support strategies to be used before the PRN use of the medication    Circumstance(s) in which the medication(s) will be used    Procedure for administering the medication(s), including observation and monitoring of side-effects    How will chemical restraint be gradually reduced as behavioural goals are achieved by the person?    Why is the use of this medication the least restrictive way of ensuring the safety of the person and/or others?    Social validity of the restrictive practice  How did you assess the acceptability of this practice?  Who did you consult with to assess this?      Authorisation for the use of restrictive practice  Authorising body  Approval period          Physical    Description of the restraint(s) to be used    Positive behavioural support strategies to be used before the use of the restraint    Circumstance(s) in which the restraint will be used    Procedure for using the restraint, including observation, monitoring and maximum time period    How will the restraint be gradually reduced as behavioural goals are achieved by the person?    Why is the use of this restraint the least restrictive way of ensuring the safety of the person and/or others?    Social validity of the restrictive practice  How did you assess the acceptability of this practice?  Who did you consult with to assess this?      Authorisation for the use of restrictive practice  Authorising body  Approval period          Mechanical    Description of the restraint(s) to be used    Frequency of use  Routine use  As needed  Positive behavioural support strategies to be used before the as needed use of the restraint    Circumstance(s) in which the restraint will be used    Procedure for using the restraint, including observation, monitoring and maximum time period    How do you know this restraint is safe to use?    How will the restraint be gradually reduced as behavioural goals are achieved by the person?    Why is the use of this practice the least restrictive way of ensuring the safety of the person and/or others?    Social validity of the practice  How did you assess the acceptability of this practice?  Who did you consult with to assess this?      Authorisation for the use of the practices  Authorising body  Approval period          Environmental    Description of the restraint(s) to be used    Frequency of use  Routine use  As needed  Positive behavioural support strategies to be used before the as needed use of the restraint    Circumstance(s) in which the restraint will be used    What is the person with disability prevented from accessing?    Procedure for using the restraint, including observation and monitoring     Will other people be impacted by the use of this restraint?  Yes  No  If YES, how will impact on others be minimised?    How will the restraint be gradually reduced as behavioural goals are achieved by the person?    Why is the use of this practice the least restrictive way of ensuring the safety of the person and/or others?    Social validity of the practice  How did you assess the acceptability of this practice?  Who did you consult with to assess this?      Authorisation for the use of the practices  Authorising body  Approval period          Seclusion    Frequency of use  Routine use  As needed  Positive behavioural support strategies to be used before the as needed use of seclusion    Circumstance(s) in which seclusion will be used    The maximum frequency of seclusion per day, week and/or month; and for how long (minutes/hours)    Procedure for using seclusion, including observation and monitoring    How will seclusion be gradually reduced as behavioural goals are achieved by the person?    Why is the use seclusion the least restrictive way of ensuring the safety of the person and/or others?    Social validity of seclusion  How did you assess the acceptability of this practice?  Who did you consult with to assess this?      Authorisation for the use of restrictive practices  Authorising body  Approval period            PAGE 6 – PBSP Implementation    •  This page contains the relevant information about the PBSP implementation process. This information only  needs to be entered once by the user.    NOTE: We will need to develop checklist items to assess the content in this section. This section will mainly  be looking for the absence of content (i.e., information is not provided).    Implementation    People involved in the implementation of this PBSP  Teacher  Integration aide  Other school staff      How will implementers of this PBSP be trained to implement the proposed interventions?  Strategy  Person(s) responsible  Face to face training to train integration aide how to  implement the teaching strategy  Teacher  Observation of integration aide implementing the  teaching strategy and providing feedback on three  separate occasions  Teacher  Outline the implementation plan  Action  Person(s) responsible  Each morning before Eddie commences his schoolwork,  the teacher’s aide will teach him how to ask for help  before the rest of the students arrive  Integration aide  Record the use of the target behaviours via the data  recording sheet in class and in the playground  Teacher, integration aide, other school staff  Incident reports will be completed for instances of  physical aggression and property damage in order to  record the context of the behaviour, what happened  immediately beforehand and what happened  immediately afterwards  Teacher, integration aide, other school staff  Review the week’s data at the end of each week to  monitor any changes.  Teacher  How will implementers of this PBSP communicate with one another to discuss implementation?  Strategy  Person(s) responsible  Stakeholder meetings to be held monthly  Behaviour support practitioner, the teacher, and  Eddie’s parents  How will PBSP implementation and goal achievement be reviewed and monitored?  Strategy  Person(s) responsible  Data will be analysed, including graphing the  scatterplot data, and provide a review report to the  stakeholder meetings.  Behaviour support practitioner  Monthly stakeholder meeting will be used to review if  the target behaviour is not decreasing. Consideration  and identification of any required amendments to this  plan will also happen in this meeting.  Behaviour support practitioner, the teacher, and  Eddie’s parents  Timeframe for plan review  First review: 10/03/2021; 6 month review: May 2021; End of year review: November 2021      Social Validity    How did you assess the acceptability of the interventions proposed in this PBSP?  Relevant stakeholders were provided the plan to read. They then answered a questionnaire with items assessing  social validity. All stakeholders consulted indicated that the interventions proposed were acceptable.  Who did you consult with?  Parents, teachers, integration aide    '"
      ]
     },
     "execution_count": 383,
     "metadata": {},
     "output_type": "execute_result"
    }
   ],
   "source": [
    "dict_pdf = {}\n",
    "all_content = \"\"\n",
    "for i in text.keys():\n",
    "    \n",
    "    if \"Commented [\" in text[i]:\n",
    "        comment_start_position = text[i].find(\"Commented [\")\n",
    "        dict_pdf[i] = {\"content\":text[i][:comment_start_position],\"comment\":text[i][comment_start_position:]}\n",
    "        all_content+=text[i][:comment_start_position]\n",
    "    else:\n",
    "        all_content+=text[i]\n",
    "all_content.replace(\"\\n\",\" \")"
   ]
  },
  {
   "cell_type": "code",
   "execution_count": 384,
   "id": "f0831e06",
   "metadata": {
    "ExecuteTime": {
     "end_time": "2022-10-10T12:03:32.083084Z",
     "start_time": "2022-10-10T12:03:32.075082Z"
    }
   },
   "outputs": [
    {
     "data": {
      "text/plain": [
       "'Positive Behaviour Support Plan (PBSP) \\nSummary Document \\n \\nWe envision that the user interface will contain six separate pages. Below is a description of each page and the text \\nboxes we propose to be included. \\n \\n \\nPAGE 1 – About the Person with Disability \\n \\n• \\nThis page contains the relevant information about the person with disability who is the focus of the PBSP. \\nThis information only needs to be entered once by the user. \\n \\nNOTE: We will need to develop checklist items to assess the content in this section. This section will mainly \\nbe looking for the absence of content (i.e., information is not provided). \\n \\nProvide a short summary about the person with disability who is the focus of the PBSP \\nEddie is 15 years old and lives at home with his parents.  Eddie’s brother Jack and sister Jill live locally however do \\nnot visit often due to Eddie’s challenging behaviours.  Eddie has a diagnosis of moderate intellectual disability and \\ninsulin dependent type 1 diabetes. \\n \\nEddie enjoys spending time with other males his age who include him in their activities and most of all being active.  \\nEddie is a very fast runner and loves to race others across any open spaces he finds himself in.  Due to Eddie’s fitness, \\nheight and long legs, he outruns most people.  Eddie will often laugh loudly whilst he is running.   \\n \\nEddie’s favourite things are spending time with his dad, running, wide open spaces, playing basketball and watching \\naeroplanes.  Upon hearing an aeroplane, Eddie will run from wherever he is to get a look at the aeroplane and will \\nlaugh loudly whilst looking up and waving at them.  Eddie goes to basketball training Tuesday and Thursday \\nafternoon, playing games with other teams most Saturdays. \\n \\nAt home Eddie requires prompting to attend to his personal hygiene needs and to assist daily activities.  Eddie \\nresponds well to being shown what to do then staying with him for support whilst he tries to imitate them.   \\n \\nEddie enjoys being outside in his back yard, in the sunshine, and often runs around without any real direction with \\na big smile on his face.   \\n \\nEddie is a good sleeper, putting himself to bed before 9.00 pm, waking between 6.00 and 7.00 in the morning each \\nday.  Eddie will generally always sleep through any disturbances during the night, however, if woken, it can take \\nsome time to encourage Eddie back to bed, rather than getting up to start his day.  If it is still dark outside this is \\neasier to do. \\n \\nEddie’s family report that Eddie shows signs of unease, such as tightened jaw, upper body and limbs, when in a \\nvehicle.  They also report that it is difficult to get Eddie into and out of any vehicle. \\n \\nEddie enjoys his food however does not appear to understand why he can’t eat the same food as others.  Family \\nand staff report behaviours of concern to be a regular occurrence at meal times both within the home and at school.  \\nEddie also does not like to have his insulin injection each day and family are always prepared for behaviours of \\nconcern such as hitting people at injection time which is generally at 8.00 am (following the advice of Eddie’s \\nspecialist).  A nutritionist has provided a detailed menu plan which family and school staff follow diligently.  Eddie \\ndoes not like to go and see the nutritionist and often family send her reports of how Eddie is going rather than \\ntaking him to see her. \\n \\nEddie attends St Lucia State High School and is in year 10.  Due to his learning needs he receives assistance from a \\nteacher’s aide in the classroom. The teacher provides differentiated curriculum and instruction as required due to \\nthe impact of his intellectual impairment on his learning.  When Eddie is supported he works well on academic tasks \\nand demonstrates a willingness to try hard. \\n \\nEddie usually attends school five days a week.  Unfortunately, due to Eddie’s ongoing use of physical aggression to \\nstaff and peers, Eddie was suspended from attending for a 2 week period in mid-October. \\n \\nThe relationship between Eddie and his fellow students can be both positive and negative.  When the students are \\nall engaged in preferred activities either with school staff or each other, there is a real sense of camaraderie and \\nfriendship.  However, Eddie will often instigate physical aggression, hitting or forcefully pushing other students, if \\nhe has had to wait for any period of time. \\n \\nEddie does well when surrounded by other young men, engaged in physical activities of any kind especially \\nbasketball and any game that involves running.  Eddie also uses positive body language such as smiling and shaking \\nhands with others. \\n \\nEddie is able to communicate most of his needs through the use of some single syllable words (i.e. yes and no in \\ncontext, help, hurt, run, now, dad, mum, Jack, Jill, out, why, ball, me, food, car, plane, fast, need - short for needle) \\nand gestures.  Eddie understands two to three step instructions and maximum 8 word sentences that are kept clear, \\nsimple and spaced apart.  His ability to use words to communicate significantly decreases leading up to and during \\nhis use of behaviours of concern. \\n \\nEddie responds well to large group activities [especially with other males] that involve physical activity and often \\nhas a big smile on his face at these times.  However, if Eddie arrives late and is unable to engage in a preferred \\nactivity, he will always respond with aggression to those who advise of his inability to join in.   When it is raining and \\noutdoor activities are cancelled, and everyone is inside, Eddie will generally respond with behaviours of concern \\nsuch as hitting and pushing other students, yelling loudly at others and property damage. \\n \\nEddie likes to know what is happening next, so having a routine is important to him.  If there are required changes \\nto the routine these need to be explained to him in advance, and preferably, emailed to his parents so that they can \\nreinforce the change in the evening before school.  If there is an unexpected or unexplained change, or if the \\nmaterials needed for an activity aren’t prepared, he can become agitated and upset. \\n \\nIn class he prefers to work in quieter areas and can become anxious and agitated when the classroom is noisy or \\nthere is a lot of activity.  Eddie can work well on academic tasks but will not take risks if he is unsure whether he will \\nable to complete the activity successfully.  When he finds the work difficult or too challenging he can refuse to \\nparticipate. \\n \\nEddie has a small friendship circle at school, generally with other students who include him in their sporting games \\nduring breaks.  Eddie often does not initiate interactions with the other students, usually only interacting when \\nother students initiate the interaction. \\n \\n \\n \\nPAGE 2 – Assessments and Data Gathering \\n \\n• \\nThis page contains the relevant information regarding the assessments undertaken, and the data gathered to \\ninform PBSP development. This information only needs to be entered once by the user. \\n \\nNOTE: We will need to develop checklist items to assess the content in this section. This section will mainly \\nbe looking for the absence of content (i.e., information is not provided). \\n \\nPersons consulted to prepare this PBSP (add/remove rows as required) \\nWho are they? \\nHow were they consulted? \\nMother \\nFace to face interview \\nFather \\nTelephone interview \\nTeacher \\nFace to face interview \\nIntegration aide \\nVideo conference interview \\nSports coordinator \\nFace to face interview \\nOutline the behavioural assessment approaches implemented to develop this PBSP \\nContextual Assessment Inventory completed by his teacher, observation (scatter plots) completed by his teacher \\nand integration aide, and Functional Assessment Interview (completed by his mother and teacher) \\nAdditional non-behavioural assessments undertaken or reviewed to inform the development of this PBSP \\nNone \\n \\n \\n \\n \\nPAGE 3 – Functional Behavioural Assessment \\n \\n• \\nWe envision that this page will start with a drop-down menu that allows the user to choose one of the five \\nfunctions of behaviour: \\no Avoidance/escape \\no Communication \\no Physical/sensory need \\no Seeking an object/activity \\no Other – please specify \\n \\n• \\nOnce they choose a function, the text boxes below would come up for the user to input information. \\n \\n• \\nFollowing this, the user will be asked if they want to include another function of behaviour. \\no If YES, the drop-down menu that allows the user to choose one of the five functions behaviour \\nappears again. Once a choice is made, these text boxes appear again. \\n▪ \\nRepeat this process until the user has no more functions to add. \\n \\nNOTE: The items on the existing BSPA-tool will be used to assess the content in this section. We need to \\nmake some additional modifications to the tool to assist in more precise scoring. \\n \\nFunction \\nAvoidance/escape \\nCommunication \\nPhysical/sensory \\nneed \\nSeeking an \\nobject/activity \\nOther – please \\nspecify \\n \\n \\nFunction – Name of function (either avoidance/escape, communication, physical/sensory need, seeking an \\nobject/activity, other – please specify) \\n \\nDescription of behaviours (include frequency, duration and severity) that align with this function \\nEddie hits staff and other students with his open hand or pushes them forcefully, daily, on average 2.5 incidents \\nper day. Incidents last on average 10 minutes and Minor injuries to others as a result of being slapped or pushed. \\nEddie rips up books and other teaching materials or throws objects around the room. This happens less than once \\na day, with an average of one or two incidents every couple of days. Incidents last on average 10 minutes and \\nthere is damage to classroom materials and/or students are injured if hit by flying objects. \\nSetting events, triggers and consequences related to these behaviours (add/remove rows as necessary) \\nSetting events  \\nTriggers \\nConsequences \\nNo breakfast \\nAsked to complete work in class \\nTeacher goes to Eddie to calm him \\ndown. He is often removed from the \\nclassroom. \\nNormal school routine has had a \\nchange \\n \\nGains teacher attention and escapes \\nLow blood sugar levels \\n \\n \\nA summary statement outlining the functional hypothesis \\nWhen Eddie is asked to complete work in class that he finds difficult or needs to complete independently he uses \\nphysical aggression or property damage, resulting in the teacher attending to him and him not completing the \\nrequired work. The physical aggression and property damage have the same functions, to gain the attention of the \\nteacher and to avoid work that he finds difficult or is not his preference. \\nProposed alternative or functionally equivalent replacement behaviour(s) \\nAsk teacher for help \\n \\n \\nPage 4 – Positive Behavioural Support Interventions \\n \\nGoals \\n \\nGoal(s) specific to the behaviours described \\nEddie will ask the teacher or the Aide for help by putting his hand up every time he needs help or a break. He will \\nachieve this by the end of June, 2021. \\nGoals specific to enhancing the person’s quality of life  \\nNone specified \\n \\n \\nStrategies \\n \\nEnvironmental changes to address setting events and triggers (changes to reduce and/or eliminate their influence) \\nTo manage the triggers of Eddie’s behaviour: \\n \\n• \\nWherever possible, teach concepts using examples and activities that interest Eddie \\n• \\nSet teaching activities in smaller, time limited “chunks”, no longer than 10 minutes each time. \\n• \\n Do assignments in small groups where possible, with students Eddie gets on well with. \\n• \\nRemind Eddie of the planned routine for doing classwork before each break so that when he returns to \\nclass he understands what happens next. \\n• \\nClosely supervise Eddie to identify quickly when he needs assistance or is drifting off task. When he is \\nlooking as though he is struggling or becoming distracted the teacher will move to him and ask him to \\nshow his work or whether he needs assistance. The teacher will provide him with assistance or \\nencouragement, according to his progress. \\n• \\nRecognise that it is likely that Eddie gets tired and has difficulty concentrating in the late afternoon so \\nmake sure that the work he is given is interesting for him and not too challenging. \\n \\nTo assist, school management will:  \\n \\n• \\nContinue to supply a teacher aide that will enable Eddie to be given targeted instruction and support at \\ntimes when he needs to engage in academic work that he finds difficult and to support the development \\nof his social and communication skills. \\n• \\nAllocate relief teachers known to Eddie whenever possible to reduce the effects of change in teachers \\nwhen the regular teacher is not available. \\n• \\nCommunicate regularly with Eddie’s parents to inform them of changes to the school routine or other \\nmatters that need to be reinforced with Eddie to assist in his understanding. \\n• \\nProvide coordination of Eddie’s involvement in school activities outside the classroom with other school \\npersonnel, including the Sports Coordinator to ensure that he is able to participate. \\n \\nTo assist, teachers will: \\n \\n• \\nEnsure that Eddie’s blood sugar level is tested at the specified times each day and that he eats the food he \\nhas brought with him. \\n• \\nDevelop lesson plans to differentiate the instruction suited to Eddie’s learning needs and ensure that the \\nteacher’s aide and other teachers are familiar with these lesson plans. \\n• \\nProvide teaching that suits Eddie’s learning needs. \\n• \\nUtilise a visual timetable for all students on the whiteboard each day. \\n• \\nDevelop and use social stories to assist Eddie in understanding daily routines, changes in routine and social \\ninteractions. \\n• \\nArrange the classroom to minimise noise and distractions for Eddie, particularly when he is working. \\n• \\nAdvise and support the teacher aide before each lesson in the work/activities to be completed by Eddie \\nand the supports that need to be provided to him. \\n• \\nTeam Eddie up with students he gets along well with. \\n• \\nDevelop and implement a planned routine for the transition into class at the beginning of the day for all \\nstudents to ensure that they move into the room and quickly settle down at their tables. \\n \\nTeaching of the alternative or functionally equivalent replacement behaviour(s) (e.g., description of the teaching \\nstrategy and materials needed) \\nWhat: When Eddie is doing work in the classroom, he will ask for help or for a break from the work he is doing by \\nputting his hand up and getting the teacher’s attention. \\n \\nHow: The teacher’s aide will implement the teaching strategy that has been developed by the teacher. \\n \\nEach morning before Eddie commences his school work the teacher’s aide will teach him before the rest of the \\nstudents arrive.  Using explicit instruction and role play, the teacher’s aide will teach each step of asking for help or \\nfor a break (hand up, wait for teacher to acknowledge you, say “need help” or “need break”, wait for teacher to \\nrespond). This will be followed up with a social story (using pictures to represent the situation where Eddie needs \\nhelp or a break and would like to get the teacher’s attention) that can be used to remind Eddie how to use the skill \\nhe has learned. \\n \\nThe teaching strategy will explained to all staff who work with Eddie and data on his progress against each of the \\nsteps will be recorded.  Teaching will cease when Eddie demonstrates that he has mastered all aspects of the skill \\nand prompting will cease after he has been successfully using the skill every time he is prompted for a period of \\none month. \\n \\nWho: The classroom teacher and the allocated teacher’s aide. \\n \\nWhen: A dedicated time for teaching the skill away from the other students will occur once a day. The skill will also \\nbe taught at naturally occurring ties when Eddie needs assistance or a break. \\n \\nWhere: In the classroom. \\n \\nMaterials: No materials are required however dedicated time from the teacher’s aide will be needed. \\n \\nOnce Eddie has mastered this skill a teaching plan will be developed and implemented to teach him wait for \\nassistance. \\nOther strategies (e.g., social, independence, coping, tolerance, etc.) \\nEddie enjoys and values being included in activities at school.  His quality of life would be improved if he had more \\nopportunities for social interaction with his peers.  Strategies that will be implemented are; \\n \\n• \\nDevelop a buddy system with the students who already interact well with Eddie and support them to \\nactively engage with Eddie and encourage him to participate in their sporting games with other students. \\nThe aim is to widen the circle of students he can interact with. \\n• \\nDuring breaks the supervising teacher in the playground will assist Eddie in asking other students to \\ninclude him in their games. \\n \\nGiven Eddie’s sensitivity to noise and activity and need for routine, the following strategies will be used in the \\nclassroom; \\n \\n• \\nEnsure that he sits in an area in the classroom that has minimal distractions and noise interruption.  This \\nmay be close to the front of the class, and near the teacher so that noise and distraction is behind him. \\n• \\nHave regular communication with his parents to keep them informed of any changes to routine and his \\nprogress.  Their preference is for email contact. \\n• \\nUse social stories wherever possible to assist Eddie in understanding routines and behavioural \\nexpectations (such as how to ask to be included in games). \\n• \\nFor transitions, Eddie will be encouraged to put on headphones and listen to music in a quiet area of the \\nclassroom until all of the other students have settled down in their seats. Once the other students have \\nsettled he is to take the headphones off and engage in the lesson. \\n \\nEddie enjoys running and other active sports.  This is an important opportunity for Eddie to increase his \\nparticipation in school activities. Strategies include; \\n• \\nSign Eddie up for the school basketball team and cross country running teams. \\n• \\nEddie’s father has offered to volunteer for school sports carnivals. Ensure that Mr Yahoo is invited along so \\nthat he can coordinate Eddie and a couple of other students to assist in the organising of the events, such \\nas getting equipment ready, scoring etc. \\n• \\nDuring other sports activities in which he is not participating, Eddie will be asked by the coordinating \\nteacher to assist in the scoring. \\n \\nEddie will also be supported to take an active role in non-sporting activities at the school, such as; \\n• \\nAssisting the teacher in organising the school assembly. \\n• \\nAssisting with food preparation at the breakfast club. \\n• \\nEnrolling him in the Buddy reading program. \\n \\nEddie will be supported to attend the “Best Mates” social club one lunchtime per week. This is a play and activities \\nbased program with the aim of developing student interactions and social skills. Eddie’s friends will also be \\nencouraged to attend the sessions he attends. \\n \\n \\nReinforcement for Skill Development \\n \\nProposed reinforcers \\nAttention, praise and tokens \\nSchedule of reinforcement \\n• \\nAlways provide Eddie with attention when he begins to attempt the work and makes effort.  Gradually \\nwithdraw this attention as he attends to his work for longer periods of time. \\n• \\nProvide praise for completed assignments. \\n• \\nProvide praise when he asks for help or requests a break (the desired behaviour). \\n• \\nWhen Eddie has completed work in the classroom (with and without assistance) he will be provided with a \\ntoken to put on the chart on display on the classroom wall. At the end of the day when he has collected at \\nleast 5 tokens he will able to spend the last ½ hour of the school day engaging in an activity of his choice \\nand interest. Eddie likes to play games on the iPad so this would be his preferred activity. \\nHow were these reinforcers identified? \\nA preference assessment was undertaken by the behaviour support practitioner to ascertain what Eddie’s \\npreferred activities are. \\n \\n \\nDe-Escalation - Reactive strategies for challenging behaviours \\n \\nHow to prompt the alternative or functionally replacement behaviour(s) \\nIf Eddie begins to demonstrate the precursor behaviours to him hitting or engaging in property damage (getting \\nout of his chair, pacing, refusing to make eye contact) go over to him, get his attention and ask him if he would like \\nsome help. If Eddie nods his head sit down at the table with him and provide him with the assistance he needs. Do \\nnot delay in providing the assistance.  When he has sat down and when it is appropriate to do so, remind Eddie of \\nthe ways that he can ask for help from the teacher of the Aide.  When he completes the work support him to \\nengage in a preferred activity before moving on to the next activity. \\nStrategies to ensure the safety of the person and/or others \\nIf Eddie escalates and begins to engage in property damage such as throwing objects and ripping worksheets move \\naway from Eddie. Do not use threatening postures, a loud voice, or tell Eddie to calm down. Maintain the \\nappearance of being calm. If you can, distract Eddie by asking whether he would like to go outside and play \\nbasketball. If Eddie is hitting or attempting to hit people follow the school’s policy and procedures for dealing with \\nbehaviours that are a risk of harm to others. \\nPost-incident debriefing with the person with disability and/or parents, support staff, etc. \\nWhen Eddie has stopped the behaviour and has de-escalated, at the appropriate time speak to him alone to \\nremind him of the ways he can ask for help or a break from the work he is doing. \\n \\n \\n \\nPAGE 5 – Restrictive Intervention \\n \\n• \\nWe envision that this page will start with a YES/NO item that asks if restrictive interventions are proposed \\nfor use.  \\n \\n• \\nThen, a drop-down menu will come up that allows the user to choose one of five restrictive intervention \\noptions: \\no Chemical restraint \\no Physical restraint \\no Mechanical restraint \\no Environmental restraint \\no Seclusion \\n \\n• \\nOnce they choose a restrictive intervention option, the appropriate set of text boxes (see below) would come \\nup for the user to input information. \\n \\n• \\nFollowing this, the user will be asked if they want to include another restrictive intervention. \\no If YES, the drop-down menu that allows the user to choose one of the five restrictive intervention \\noptions appears again. Once a choice is made, the appropriate set of text boxes appear again. \\n▪ \\nRepeat this process until the user has no more restrictive interventions to add. \\n \\nNOTE: We will need to develop checklist items to assess the content in this section. This section will mainly \\nbe looking for the absence of content (i.e., information is not provided). \\n \\nAre you proposed to use restrictive interventions? \\nYes \\nNo \\n \\nType of restrictive intervention \\n \\nRestrictive intervention \\nChemical \\nPhysical \\nMechanical \\nEnvironmental \\nSeclusion \\n \\nChemical Restraint \\n \\nMedication(s) that will be used (e.g., name, dosage, frequency, administration, route, prescriber) \\nName \\nDosage \\nFrequency \\nAdministration \\nRoute \\nPrescriber \\n \\n \\n \\n \\n \\n \\nPositive behavioural support strategies to be used before the PRN use of the medication \\n \\nCircumstance(s) in which the medication(s) will be used \\n \\nProcedure for administering the medication(s), including observation and monitoring of side-effects \\n \\nHow will chemical restraint be gradually reduced as behavioural goals are achieved by the person? \\n \\nWhy is the use of this medication the least restrictive way of ensuring the safety of the person and/or others? \\n \\nSocial validity of the restrictive practice \\nHow did you assess the acceptability of this practice? \\nWho did you consult with to assess this? \\n \\n \\nAuthorisation for the use of restrictive practice \\nAuthorising body \\nApproval period \\n \\n \\n \\n \\nPhysical \\n \\nDescription of the restraint(s) to be used \\n \\nPositive behavioural support strategies to be used before the use of the restraint \\n \\nCircumstance(s) in which the restraint will be used \\n \\nProcedure for using the restraint, including observation, monitoring and maximum time period \\n \\nHow will the restraint be gradually reduced as behavioural goals are achieved by the person? \\n \\nWhy is the use of this restraint the least restrictive way of ensuring the safety of the person and/or others? \\n \\nSocial validity of the restrictive practice \\nHow did you assess the acceptability of this practice? \\nWho did you consult with to assess this? \\n \\n \\nAuthorisation for the use of restrictive practice \\nAuthorising body \\nApproval period \\n \\n \\n \\n \\nMechanical \\n \\nDescription of the restraint(s) to be used \\n \\nFrequency of use \\nRoutine use \\nAs needed \\nPositive behavioural support strategies to be used before the as needed use of the restraint \\n \\nCircumstance(s) in which the restraint will be used \\n \\nProcedure for using the restraint, including observation, monitoring and maximum time period \\n \\nHow do you know this restraint is safe to use? \\n \\nHow will the restraint be gradually reduced as behavioural goals are achieved by the person? \\n \\nWhy is the use of this practice the least restrictive way of ensuring the safety of the person and/or others? \\n \\nSocial validity of the practice \\nHow did you assess the acceptability of this practice? \\nWho did you consult with to assess this? \\n \\n \\nAuthorisation for the use of the practices \\nAuthorising body \\nApproval period \\n \\n \\n \\n \\nEnvironmental \\n \\nDescription of the restraint(s) to be used \\n \\nFrequency of use \\nRoutine use \\nAs needed \\nPositive behavioural support strategies to be used before the as needed use of the restraint \\n \\nCircumstance(s) in which the restraint will be used \\n \\nWhat is the person with disability prevented from accessing? \\n \\nProcedure for using the restraint, including observation and monitoring  \\n \\nWill other people be impacted by the use of this restraint? \\nYes \\nNo \\nIf YES, how will impact on others be minimised? \\n \\nHow will the restraint be gradually reduced as behavioural goals are achieved by the person? \\n \\nWhy is the use of this practice the least restrictive way of ensuring the safety of the person and/or others? \\n \\nSocial validity of the practice \\nHow did you assess the acceptability of this practice? \\nWho did you consult with to assess this? \\n \\n \\nAuthorisation for the use of the practices \\nAuthorising body \\nApproval period \\n \\n \\n \\n \\nSeclusion \\n \\nFrequency of use \\nRoutine use \\nAs needed \\nPositive behavioural support strategies to be used before the as needed use of seclusion \\n \\nCircumstance(s) in which seclusion will be used \\n \\nThe maximum frequency of seclusion per day, week and/or month; and for how long (minutes/hours) \\n \\nProcedure for using seclusion, including observation and monitoring \\n \\nHow will seclusion be gradually reduced as behavioural goals are achieved by the person? \\n \\nWhy is the use seclusion the least restrictive way of ensuring the safety of the person and/or others? \\n \\nSocial validity of seclusion \\nHow did you assess the acceptability of this practice? \\nWho did you consult with to assess this? \\n \\n \\nAuthorisation for the use of restrictive practices \\nAuthorising body \\nApproval period \\n \\n \\n \\n \\n \\nPAGE 6 – PBSP Implementation \\n \\n• \\nThis page contains the relevant information about the PBSP implementation process. This information only \\nneeds to be entered once by the user. \\n \\nNOTE: We will need to develop checklist items to assess the content in this section. This section will mainly \\nbe looking for the absence of content (i.e., information is not provided). \\n \\nImplementation \\n \\nPeople involved in the implementation of this PBSP \\nTeacher \\nIntegration aide \\nOther school staff \\n \\n \\nHow will implementers of this PBSP be trained to implement the proposed interventions? \\nStrategy \\nPerson(s) responsible \\nFace to face training to train integration aide how to \\nimplement the teaching strategy \\nTeacher \\nObservation of integration aide implementing the \\nteaching strategy and providing feedback on three \\nseparate occasions \\nTeacher \\nOutline the implementation plan \\nAction \\nPerson(s) responsible \\nEach morning before Eddie commences his schoolwork, \\nthe teacher’s aide will teach him how to ask for help \\nbefore the rest of the students arrive \\nIntegration aide \\nRecord the use of the target behaviours via the data \\nrecording sheet in class and in the playground \\nTeacher, integration aide, other school staff \\nIncident reports will be completed for instances of \\nphysical aggression and property damage in order to \\nrecord the context of the behaviour, what happened \\nimmediately beforehand and what happened \\nimmediately afterwards \\nTeacher, integration aide, other school staff \\nReview the week’s data at the end of each week to \\nmonitor any changes. \\nTeacher \\nHow will implementers of this PBSP communicate with one another to discuss implementation? \\nStrategy \\nPerson(s) responsible \\nStakeholder meetings to be held monthly \\nBehaviour support practitioner, the teacher, and \\nEddie’s parents \\nHow will PBSP implementation and goal achievement be reviewed and monitored? \\nStrategy \\nPerson(s) responsible \\nData will be analysed, including graphing the \\nscatterplot data, and provide a review report to the \\nstakeholder meetings. \\nBehaviour support practitioner \\nMonthly stakeholder meeting will be used to review if \\nthe target behaviour is not decreasing. Consideration \\nand identification of any required amendments to this \\nplan will also happen in this meeting. \\nBehaviour support practitioner, the teacher, and \\nEddie’s parents \\nTimeframe for plan review \\nFirst review: 10/03/2021; 6 month review: May 2021; End of year review: November 2021 \\n \\n \\nSocial Validity \\n \\nHow did you assess the acceptability of the interventions proposed in this PBSP? \\nRelevant stakeholders were provided the plan to read. They then answered a questionnaire with items assessing \\nsocial validity. All stakeholders consulted indicated that the interventions proposed were acceptable. \\nWho did you consult with? \\nParents, teachers, integration aide \\n \\n'"
      ]
     },
     "execution_count": 384,
     "metadata": {},
     "output_type": "execute_result"
    }
   ],
   "source": [
    "all_content"
   ]
  },
  {
   "cell_type": "code",
   "execution_count": null,
   "id": "86d967ea",
   "metadata": {},
   "outputs": [],
   "source": []
  },
  {
   "cell_type": "markdown",
   "id": "199789ce",
   "metadata": {},
   "source": [
    "# extract tables"
   ]
  },
  {
   "cell_type": "code",
   "execution_count": 375,
   "id": "56e0a3b1",
   "metadata": {
    "ExecuteTime": {
     "end_time": "2022-10-10T11:36:11.480458Z",
     "start_time": "2022-10-10T11:36:11.471456Z"
    }
   },
   "outputs": [
    {
     "ename": "FileNotFoundError",
     "evalue": "[Errno 2] No such file or directory: 'PBSP Summary Document Final.pdf'",
     "output_type": "error",
     "traceback": [
      "\u001b[1;31m---------------------------------------------------------------------------\u001b[0m",
      "\u001b[1;31mFileNotFoundError\u001b[0m                         Traceback (most recent call last)",
      "\u001b[1;32m~\\AppData\\Local\\Temp\\ipykernel_30256\\1791589487.py\u001b[0m in \u001b[0;36m<module>\u001b[1;34m\u001b[0m\n\u001b[0;32m      1\u001b[0m \u001b[1;32mimport\u001b[0m \u001b[0mpdfplumber\u001b[0m\u001b[1;33m\u001b[0m\u001b[1;33m\u001b[0m\u001b[0m\n\u001b[0;32m      2\u001b[0m \u001b[1;33m\u001b[0m\u001b[0m\n\u001b[1;32m----> 3\u001b[1;33m \u001b[0mpdf\u001b[0m \u001b[1;33m=\u001b[0m \u001b[0mpdfplumber\u001b[0m\u001b[1;33m.\u001b[0m\u001b[0mopen\u001b[0m\u001b[1;33m(\u001b[0m\u001b[0mfile_name\u001b[0m\u001b[1;33m)\u001b[0m\u001b[1;33m\u001b[0m\u001b[1;33m\u001b[0m\u001b[0m\n\u001b[0m\u001b[0;32m      4\u001b[0m \u001b[0mtables\u001b[0m \u001b[1;33m=\u001b[0m \u001b[1;33m[\u001b[0m\u001b[1;33m]\u001b[0m\u001b[1;33m\u001b[0m\u001b[1;33m\u001b[0m\u001b[0m\n\u001b[0;32m      5\u001b[0m \u001b[1;32mfor\u001b[0m \u001b[0mpage\u001b[0m \u001b[1;32min\u001b[0m \u001b[0mpdf\u001b[0m\u001b[1;33m.\u001b[0m\u001b[0mpages\u001b[0m\u001b[1;33m:\u001b[0m\u001b[1;33m\u001b[0m\u001b[1;33m\u001b[0m\u001b[0m\n",
      "\u001b[1;32mD:\\anaconda\\lib\\site-packages\\pdfplumber\\pdf.py\u001b[0m in \u001b[0;36mopen\u001b[1;34m(cls, path_or_fp, pages, laparams, password, strict_metadata)\u001b[0m\n\u001b[0;32m     69\u001b[0m \u001b[1;33m\u001b[0m\u001b[0m\n\u001b[0;32m     70\u001b[0m         \u001b[1;32mif\u001b[0m \u001b[0misinstance\u001b[0m\u001b[1;33m(\u001b[0m\u001b[0mpath_or_fp\u001b[0m\u001b[1;33m,\u001b[0m \u001b[1;33m(\u001b[0m\u001b[0mstr\u001b[0m\u001b[1;33m,\u001b[0m \u001b[0mpathlib\u001b[0m\u001b[1;33m.\u001b[0m\u001b[0mPath\u001b[0m\u001b[1;33m)\u001b[0m\u001b[1;33m)\u001b[0m\u001b[1;33m:\u001b[0m\u001b[1;33m\u001b[0m\u001b[1;33m\u001b[0m\u001b[0m\n\u001b[1;32m---> 71\u001b[1;33m             \u001b[0mstream\u001b[0m \u001b[1;33m=\u001b[0m \u001b[0mopen\u001b[0m\u001b[1;33m(\u001b[0m\u001b[0mpath_or_fp\u001b[0m\u001b[1;33m,\u001b[0m \u001b[1;34m\"rb\"\u001b[0m\u001b[1;33m)\u001b[0m\u001b[1;33m\u001b[0m\u001b[1;33m\u001b[0m\u001b[0m\n\u001b[0m\u001b[0;32m     72\u001b[0m             \u001b[0mstream_is_external\u001b[0m \u001b[1;33m=\u001b[0m \u001b[1;32mFalse\u001b[0m\u001b[1;33m\u001b[0m\u001b[1;33m\u001b[0m\u001b[0m\n\u001b[0;32m     73\u001b[0m         \u001b[1;32melse\u001b[0m\u001b[1;33m:\u001b[0m\u001b[1;33m\u001b[0m\u001b[1;33m\u001b[0m\u001b[0m\n",
      "\u001b[1;31mFileNotFoundError\u001b[0m: [Errno 2] No such file or directory: 'PBSP Summary Document Final.pdf'"
     ]
    }
   ],
   "source": [
    "import pdfplumber\n",
    "\n",
    "pdf = pdfplumber.open(file_name)\n",
    "tables = []\n",
    "for page in pdf.pages:\n",
    "    # Gets all text information for the current page, including text in a table                  \n",
    "    for table in page.extract_tables():\n",
    "        for row in table:\n",
    "            tables.append( row)\n",
    "            #tables.append(list(filter(None, row)) )\n",
    "\n",
    "pdf.close()"
   ]
  },
  {
   "cell_type": "code",
   "execution_count": 376,
   "id": "b912fabc",
   "metadata": {
    "ExecuteTime": {
     "end_time": "2022-10-10T11:36:11.840289Z",
     "start_time": "2022-10-10T11:36:11.827287Z"
    },
    "scrolled": true
   },
   "outputs": [
    {
     "data": {
      "text/plain": [
       "[['Provide a short summary about the person with disability who is the focus of the PBSP'],\n",
       " ['Eddie is 15 years old and lives at home with his parents.  Eddie’s brother Jack and sister Jill live locally however do \\nnot visit often due to Eddie’s challenging behaviours.  Eddie has a diagnosis of moderate intellectual disability and \\ninsulin dependent type 1 diabetes. \\n \\nEddie enjoys spending time with other males his age who include him in their activities and most of all being active.  \\nEddie is a very fast runner and loves to race others across any open spaces he finds himself in.  Due to Eddie’s fitness, \\nheight and long legs, he outruns most people.  Eddie will often laugh loudly whilst he is running.   \\n \\nEddie’s favourite things are spending time with his dad, running, wide open spaces, playing basketball and watching \\naeroplanes.  Upon hearing an aeroplane, Eddie will run from wherever he is to get a look at the aeroplane and will \\nlaugh loudly whilst looking up and waving at them.  Eddie goes to basketball training Tuesday and Thursday \\nafternoon, playing games with other teams most Saturdays. \\n \\nAt home Eddie requires prompting to attend to his personal hygiene needs and to assist daily activities.  Eddie \\nresponds well to being shown what to do then staying with him for support whilst he tries to imitate them.   \\n \\nEddie enjoys being outside in his back yard, in the sunshine, and often runs around without any real direction with \\na big smile on his face.   \\n \\nEddie is a good sleeper, putting himself to bed before 9.00 pm, waking between 6.00 and 7.00 in the morning each \\nday.  Eddie will generally always sleep through any disturbances during the night, however, if woken, it can take \\nsome time to encourage Eddie back to bed, rather than getting up to start his day.  If it is still dark outside this is \\neasier to do. \\n \\nEddie’s family report that Eddie shows signs of unease, such as tightened jaw, upper body and limbs, when in a \\nvehicle.  They also report that it is difficult to get Eddie into and out of any vehicle. \\n \\nEddie enjoys his food however does not appear to understand why he can’t eat the same food as others.  Family \\nand staff report behaviours of concern to be a regular occurrence at meal times both within the home and at school.  \\nEddie also does not like to have his insulin injection each day and family are always prepared for behaviours of \\nconcern such as hitting people at injection time which is generally at 8.00 am (following the advice of Eddie’s \\nspecialist).  A nutritionist has provided a detailed menu plan which family and school staff follow diligently.  Eddie \\ndoes not like to go and see the nutritionist and often family send her reports of how Eddie is going rather than \\ntaking him to see her. \\n \\nEddie attends St Lucia State High School and is in year 10.  Due to his learning needs he receives assistance from a \\nteacher’s aide in the classroom. The teacher provides differentiated curriculum and instruction as required due to \\nthe impact of his intellectual impairment on his learning.  When Eddie is supported he works well on academic tasks \\nand demonstrates a willingness to try hard.'],\n",
       " ['Persons consulted to prepare this PBSP (add/remove rows as required)',\n",
       "  None],\n",
       " ['Who are they?', 'How were they consulted?'],\n",
       " ['Mother', 'Face to face interview'],\n",
       " ['Father', 'Telephone interview'],\n",
       " ['Teacher', 'Face to face interview'],\n",
       " ['Integration aide', 'Video conference interview'],\n",
       " ['Sports coordinator', 'Face to face interview'],\n",
       " ['Outline the behavioural assessment approaches implemented to develop this PBSP',\n",
       "  None],\n",
       " ['Contextual Assessment Inventory completed by his teacher, observation (scatter plots) completed by his teacher \\nand integration aide, and Functional Assessment Interview (completed by his mother and teacher)',\n",
       "  None],\n",
       " ['Additional non-behavioural assessments undertaken or reviewed to inform the development of this PBSP',\n",
       "  None],\n",
       " ['None', None],\n",
       " ['Function', None, None, None, None],\n",
       " ['Avoidance/escape',\n",
       "  'Communication',\n",
       "  'Physical/sensory \\nneed',\n",
       "  'Seeking an \\nobject/activity',\n",
       "  'Other – please \\nspecify'],\n",
       " ['Description of behaviours (include frequency, duration and severity) that align with this function',\n",
       "  None,\n",
       "  None],\n",
       " ['Eddie hits staff and other students with his open hand or pushes them forcefully, daily, on average 2.5 incidents \\nper day. Incidents last on average 10 minutes and Minor injuries to others as a result of being slapped or pushed. \\nEddie rips up books and other teaching materials or throws objects around the room. This happens less than once \\na day, with an average of one or two incidents every couple of days. Incidents last on average 10 minutes and \\nthere is damage to classroom materials and/or students are injured if hit by flying objects.',\n",
       "  None,\n",
       "  None],\n",
       " ['Setting events, triggers and consequences related to these behaviours (add/remove rows as necessary)',\n",
       "  None,\n",
       "  None],\n",
       " ['Setting events', 'Triggers', 'Consequences'],\n",
       " ['No breakfast',\n",
       "  'Asked to complete work in class',\n",
       "  'Teacher goes to Eddie to calm him \\ndown. He is often removed from the \\nclassroom.'],\n",
       " ['Normal school routine has had a \\nchange',\n",
       "  '',\n",
       "  'Gains teacher attention and escapes'],\n",
       " ['Low blood sugar levels', '', ''],\n",
       " ['A summary statement outlining the functional hypothesis', None, None],\n",
       " ['When Eddie is asked to complete work in class that he finds difficult or needs to complete independently he uses \\nphysical aggression or property damage, resulting in the teacher attending to him and him not completing the \\nrequired work. The physical aggression and property damage have the same functions, to gain the attention of the \\nteacher and to avoid work that he finds difficult or is not his preference.',\n",
       "  None,\n",
       "  None],\n",
       " ['Proposed alternative or functionally equivalent replacement behaviour(s)',\n",
       "  None,\n",
       "  None],\n",
       " ['Ask teacher for help', None, None],\n",
       " ['Goal(s) specific to the behaviours described'],\n",
       " ['Eddie will ask the teacher or the Aide for help by putting his hand up every time he needs help or a break. He will \\nachieve this by the end of June, 2021.'],\n",
       " ['Goals specific to enhancing the person’s quality of life'],\n",
       " ['None specified'],\n",
       " ['Environmental changes to address setting events and triggers (changes to reduce and/or eliminate their influence)'],\n",
       " ['To manage the triggers of Eddie’s behaviour: \\n \\n•  Wherever possible, teach concepts using examples and activities that interest Eddie \\n•  Set teaching activities in smaller, time limited “chunks”, no longer than 10 minutes each time. \\n•   Do assignments in small groups where possible, with students Eddie gets on well with. \\n•  Remind Eddie of the planned routine for doing classwork before each break so that when he returns to \\nclass he understands what happens next. \\n•  Closely supervise Eddie to identify quickly when he needs assistance or is drifting off task. When he is \\nlooking as though he is struggling or becoming distracted the teacher will move to him and ask him to \\nshow his work or whether he needs assistance. The teacher will provide him with assistance or \\nencouragement, according to his progress. \\n•  Recognise that it is likely that Eddie gets tired and has difficulty concentrating in the late afternoon so \\nmake sure that the work he is given is interesting for him and not too challenging. \\n \\nTo assist, school management will:  \\n \\n•  Continue to supply a teacher aide that will enable Eddie to be given targeted instruction and support at \\ntimes when he needs to engage in academic work that he finds difficult and to support the development \\nof his social and communication skills. \\n•  Allocate relief teachers known to Eddie whenever possible to reduce the effects of change in teachers \\nwhen the regular teacher is not available. \\n•  Communicate regularly with Eddie’s parents to inform them of changes to the school routine or other \\nmatters that need to be reinforced with Eddie to assist in his understanding. \\n•  Provide coordination of Eddie’s involvement in school activities outside the classroom with other school \\npersonnel, including the Sports Coordinator to ensure that he is able to participate. \\n \\nTo assist, teachers will: \\n \\n•  Ensure that Eddie’s blood sugar level is tested at the specified times each day and that he eats the food he \\nhas brought with him. \\n•  Develop lesson plans to differentiate the instruction suited to Eddie’s learning needs and ensure that the \\nteacher’s aide and other teachers are familiar with these lesson plans. \\n•  Provide teaching that suits Eddie’s learning needs. \\n•  Utilise a visual timetable for all students on the whiteboard each day. \\n•  Develop and use social stories to assist Eddie in understanding daily routines, changes in routine and social \\ninteractions. \\n•  Arrange the classroom to minimise noise and distractions for Eddie, particularly when he is working. \\n•  Advise and support the teacher aide before each lesson in the work/activities to be completed by Eddie \\nand the supports that need to be provided to him. \\n•  Team Eddie up with students he gets along well with.'],\n",
       " ['•  Develop and implement a planned routine for the transition into class at the beginning of the day for all \\nstudents to ensure that they move into the room and quickly settle down at their tables.',\n",
       "  None,\n",
       "  None],\n",
       " ['',\n",
       "  'Teaching of the alternative or functionally equivalent replacement behaviour(s) (e.g., description of the teaching',\n",
       "  ''],\n",
       " [None, 'strategy and materials needed)', None],\n",
       " ['What: When Eddie is doing work in the classroom, he will ask for help or for a break from the work he is doing by \\nputting his hand up and getting the teacher’s attention. \\n \\nHow: The teacher’s aide will implement the teaching strategy that has been developed by the teacher. \\n \\nEach morning before Eddie commences his school work the teacher’s aide will teach him before the rest of the \\nstudents arrive.  Using explicit instruction and role play, the teacher’s aide will teach each step of asking for help or \\nfor a break (hand up, wait for teacher to acknowledge you, say “need help” or “need break”, wait for teacher to \\nrespond). This will be followed up with a social story (using pictures to represent the situation where Eddie needs \\nhelp or a break and would like to get the teacher’s attention) that can be used to remind Eddie how to use the skill \\nhe has learned. \\n \\nThe teaching strategy will explained to all staff who work with Eddie and data on his progress against each of the \\nsteps will be recorded.  Teaching will cease when Eddie demonstrates that he has mastered all aspects of the skill \\nand prompting will cease after he has been successfully using the skill every time he is prompted for a period of \\none month. \\n \\nWho: The classroom teacher and the allocated teacher’s aide. \\n \\nWhen: A dedicated time for teaching the skill away from the other students will occur once a day. The skill will also \\nbe taught at naturally occurring ties when Eddie needs assistance or a break. \\n \\nWhere: In the classroom. \\n \\nMaterials: No materials are required however dedicated time from the teacher’s aide will be needed. \\n \\nOnce Eddie has mastered this skill a teaching plan will be developed and implemented to teach him wait for \\nassistance.',\n",
       "  None,\n",
       "  None],\n",
       " ['Other strategies (e.g., social, independence, coping, tolerance, etc.)',\n",
       "  None,\n",
       "  None],\n",
       " ['Eddie enjoys and values being included in activities at school.  His quality of life would be improved if he had more \\nopportunities for social interaction with his peers.  Strategies that will be implemented are; \\n \\n•  Develop a buddy system with the students who already interact well with Eddie and support them to \\nactively engage with Eddie and encourage him to participate in their sporting games with other students. \\nThe aim is to widen the circle of students he can interact with. \\n•  During breaks the supervising teacher in the playground will assist Eddie in asking other students to \\ninclude him in their games. \\n \\nGiven Eddie’s sensitivity to noise and activity and need for routine, the following strategies will be used in the \\nclassroom; \\n \\n•  Ensure that he sits in an area in the classroom that has minimal distractions and noise interruption.  This \\nmay be close to the front of the class, and near the teacher so that noise and distraction is behind him. \\n•  Have regular communication with his parents to keep them informed of any changes to routine and his \\nprogress.  Their preference is for email contact. \\n•  Use social stories wherever possible to assist Eddie in understanding routines and behavioural \\nexpectations (such as how to ask to be included in games). \\n•  For transitions, Eddie will be encouraged to put on headphones and listen to music in a quiet area of the \\nclassroom until all of the other students have settled down in their seats. Once the other students have \\nsettled he is to take the headphones off and engage in the lesson.',\n",
       "  None,\n",
       "  None],\n",
       " ['Proposed reinforcers'],\n",
       " ['Attention, praise and tokens'],\n",
       " ['Schedule of reinforcement'],\n",
       " ['•  Always provide Eddie with attention when he begins to attempt the work and makes effort.  Gradually \\nwithdraw this attention as he attends to his work for longer periods of time. \\n•  Provide praise for completed assignments. \\n•  Provide praise when he asks for help or requests a break (the desired behaviour). \\n•  When Eddie has completed work in the classroom (with and without assistance) he will be provided with a \\ntoken to put on the chart on display on the classroom wall. At the end of the day when he has collected at \\nleast 5 tokens he will able to spend the last ½ hour of the school day engaging in an activity of his choice \\nand interest. Eddie likes to play games on the iPad so this would be his preferred activity.'],\n",
       " ['How were these reinforcers identified?'],\n",
       " ['A preference assessment was undertaken by the behaviour support practitioner to ascertain what Eddie’s \\npreferred activities are.'],\n",
       " ['How to prompt the alternative or functionally replacement behaviour(s)'],\n",
       " ['If Eddie begins to demonstrate the precursor behaviours to him hitting or engaging in property damage (getting \\nout of his chair, pacing, refusing to make eye contact) go over to him, get his attention and ask him if he would like \\nsome help. If Eddie nods his head sit down at the table with him and provide him with the assistance he needs. Do \\nnot delay in providing the assistance.  When he has sat down and when it is appropriate to do so, remind Eddie of \\nthe ways that he can ask for help from the teacher of the Aide.  When he completes the work support him to \\nengage in a preferred activity before moving on to the next activity.'],\n",
       " ['Strategies to ensure the safety of the person and/or others'],\n",
       " ['If Eddie escalates and begins to engage in property damage such as throwing objects and ripping worksheets move \\naway from Eddie. Do not use threatening postures, a loud voice, or tell Eddie to calm down. Maintain the \\nappearance of being calm. If you can, distract Eddie by asking whether he would like to go outside and play \\nbasketball. If Eddie is hitting or attempting to hit people follow the school’s policy and procedures for dealing with \\nbehaviours that are a risk of harm to others.'],\n",
       " ['Post-incident debriefing with the person with disability and/or parents, support staff, etc.'],\n",
       " ['When Eddie has stopped the behaviour and has de-escalated, at the appropriate time speak to him alone to \\nremind him of the ways he can ask for help or a break from the work he is doing.'],\n",
       " ['Are you proposed to use restrictive interventions?', None],\n",
       " ['Yes', 'No'],\n",
       " ['Restrictive intervention', None, None, None, None],\n",
       " ['Chemical', 'Physical', 'Mechanical', 'Environmental', 'Seclusion'],\n",
       " ['Medication(s) that will be used (e.g., name, dosage, frequency, administration, route, prescriber)',\n",
       "  None,\n",
       "  None,\n",
       "  None,\n",
       "  None,\n",
       "  None],\n",
       " ['Name', 'Dosage', 'Frequency', 'Administration', 'Route', 'Prescriber'],\n",
       " ['', '', '', '', '', ''],\n",
       " ['Positive behavioural support strategies to be used before the PRN use of the medication',\n",
       "  None,\n",
       "  None,\n",
       "  None,\n",
       "  None,\n",
       "  None],\n",
       " ['', None, None, None, None, None],\n",
       " ['Circumstance(s) in which the medication(s) will be used',\n",
       "  None,\n",
       "  None,\n",
       "  None,\n",
       "  None,\n",
       "  None],\n",
       " ['', None, None, None, None, None],\n",
       " ['Procedure for administering the medication(s), including observation and monitoring of side-effects',\n",
       "  None,\n",
       "  None,\n",
       "  None,\n",
       "  None,\n",
       "  None],\n",
       " ['', None, None, None, None, None],\n",
       " ['How will chemical restraint be gradually reduced as behavioural goals are achieved by the person?',\n",
       "  None,\n",
       "  None,\n",
       "  None,\n",
       "  None,\n",
       "  None],\n",
       " ['', None, None, None, None, None],\n",
       " ['Why is the use of this medication the least restrictive way of ensuring the safety of the person and/or others?',\n",
       "  None,\n",
       "  None,\n",
       "  None,\n",
       "  None,\n",
       "  None],\n",
       " ['', None, None, None, None, None],\n",
       " ['Social validity of the restrictive practice', None],\n",
       " ['How did you assess the acceptability of this practice?',\n",
       "  'Who did you consult with to assess this?'],\n",
       " ['', ''],\n",
       " ['Authorisation for the use of restrictive practice', None],\n",
       " ['Authorising body', 'Approval period'],\n",
       " ['', ''],\n",
       " ['Description of the restraint(s) to be used', None],\n",
       " ['', None],\n",
       " ['Positive behavioural support strategies to be used before the use of the restraint',\n",
       "  None],\n",
       " ['', None],\n",
       " ['Circumstance(s) in which the restraint will be used', None],\n",
       " ['', None],\n",
       " ['Procedure for using the restraint, including observation, monitoring and maximum time period',\n",
       "  None],\n",
       " ['', None],\n",
       " ['How will the restraint be gradually reduced as behavioural goals are achieved by the person?',\n",
       "  None],\n",
       " ['', None],\n",
       " ['Why is the use of this restraint the least restrictive way of ensuring the safety of the person and/or others?',\n",
       "  None],\n",
       " ['', None],\n",
       " ['Social validity of the restrictive practice', None],\n",
       " ['How did you assess the acceptability of this practice?',\n",
       "  'Who did you consult with to assess this?'],\n",
       " ['', ''],\n",
       " ['Authorisation for the use of restrictive practice', None],\n",
       " ['Authorising body', 'Approval period'],\n",
       " ['', ''],\n",
       " ['Description of the restraint(s) to be used', None],\n",
       " ['', None],\n",
       " ['Frequency of use', None],\n",
       " ['Routine use', 'As needed'],\n",
       " ['Positive behavioural support strategies to be used before the as needed use of the restraint',\n",
       "  None],\n",
       " ['', None],\n",
       " ['Circumstance(s) in which the restraint will be used', None],\n",
       " ['', None],\n",
       " ['Procedure for using the restraint, including observation, monitoring and maximum time period',\n",
       "  None],\n",
       " ['', None],\n",
       " ['How do you know this restraint is safe to use?', None],\n",
       " ['', None],\n",
       " ['How will the restraint be gradually reduced as behavioural goals are achieved by the person?',\n",
       "  None],\n",
       " ['', None],\n",
       " ['Why is the use of this practice the least restrictive way of ensuring the safety of the person and/or others?',\n",
       "  None],\n",
       " ['', None],\n",
       " ['Social validity of the practice', None],\n",
       " ['How did you assess the acceptability of this practice?',\n",
       "  'Who did you consult with to assess this?'],\n",
       " ['', ''],\n",
       " ['Authorisation for the use of the practices', None],\n",
       " ['Authorising body', 'Approval period'],\n",
       " ['', ''],\n",
       " ['Description of the restraint(s) to be used', None],\n",
       " ['', None],\n",
       " ['Frequency of use', None],\n",
       " ['Routine use', 'As needed'],\n",
       " ['Positive behavioural support strategies to be used before the as needed use of the restraint',\n",
       "  None],\n",
       " ['', None],\n",
       " ['Circumstance(s) in which the restraint will be used', None],\n",
       " ['', None],\n",
       " ['What is the person with disability prevented from accessing?', None],\n",
       " ['', None],\n",
       " ['Procedure for using the restraint, including observation and monitoring',\n",
       "  None],\n",
       " ['', None],\n",
       " ['Will other people be impacted by the use of this restraint?', None],\n",
       " ['Yes', 'No'],\n",
       " ['If YES, how will impact on others be minimised?', None],\n",
       " ['', None],\n",
       " ['How will the restraint be gradually reduced as behavioural goals are achieved by the person?',\n",
       "  None],\n",
       " ['', None],\n",
       " ['Why is the use of this practice the least restrictive way of ensuring the safety of the person and/or others?',\n",
       "  None],\n",
       " ['', None],\n",
       " ['Social validity of the practice', None],\n",
       " ['How did you assess the acceptability of this practice?',\n",
       "  'Who did you consult with to assess this?'],\n",
       " ['', ''],\n",
       " ['Authorisation for the use of the practices', None],\n",
       " ['Authorising body', 'Approval period'],\n",
       " ['', ''],\n",
       " ['Frequency of use', None],\n",
       " ['Routine use', 'As needed'],\n",
       " ['Positive behavioural support strategies to be used before the as needed use of seclusion',\n",
       "  None],\n",
       " ['', None],\n",
       " ['Circumstance(s) in which seclusion will be used', None],\n",
       " ['', None],\n",
       " ['The maximum frequency of seclusion per day, week and/or month; and for how long (minutes/hours)',\n",
       "  None],\n",
       " ['', None],\n",
       " ['Procedure for using seclusion, including observation and monitoring', None],\n",
       " ['', None],\n",
       " ['How will seclusion be gradually reduced as behavioural goals are achieved by the person?',\n",
       "  None],\n",
       " ['', None],\n",
       " ['Why is the use seclusion the least restrictive way of ensuring the safety of the person and/or others?',\n",
       "  None],\n",
       " ['', None],\n",
       " ['Social validity of seclusion', None],\n",
       " ['How did you assess the acceptability of this practice?',\n",
       "  'Who did you consult with to assess this?'],\n",
       " ['', ''],\n",
       " ['Authorisation for the use of restrictive practices', None],\n",
       " ['Authorising body', 'Approval period'],\n",
       " ['', ''],\n",
       " ['People involved in the implementation of this PBSP',\n",
       "  None,\n",
       "  None,\n",
       "  None,\n",
       "  None,\n",
       "  None],\n",
       " ['Teacher', 'Integration aide', 'Other school staff', None, '', ''],\n",
       " ['How will implementers of this PBSP be trained to implement the proposed interventions?',\n",
       "  None,\n",
       "  None,\n",
       "  None,\n",
       "  None,\n",
       "  None],\n",
       " ['Strategy', None, None, 'Person(s) responsible', None, None],\n",
       " ['Face to face training to train integration aide how to \\nimplement the teaching strategy',\n",
       "  None,\n",
       "  None,\n",
       "  'Teacher',\n",
       "  None,\n",
       "  None],\n",
       " ['Observation of integration aide implementing the \\nteaching strategy and providing feedback on three \\nseparate occasions',\n",
       "  None,\n",
       "  None,\n",
       "  'Teacher',\n",
       "  None,\n",
       "  None],\n",
       " ['Outline the implementation plan', None, None, None, None, None],\n",
       " ['Action', None, None, 'Person(s) responsible', None, None],\n",
       " ['Each morning before Eddie commences his schoolwork, \\nthe teacher’s aide will teach him how to ask for help \\nbefore the rest of the students arrive',\n",
       "  None,\n",
       "  None,\n",
       "  'Integration aide',\n",
       "  None,\n",
       "  None],\n",
       " ['Record the use of the target behaviours via the data \\nrecording sheet in class and in the playground',\n",
       "  None,\n",
       "  None,\n",
       "  'Teacher, integration aide, other school staff',\n",
       "  None,\n",
       "  None],\n",
       " ['Incident reports will be completed for instances of \\nphysical aggression and property damage in order to \\nrecord the context of the behaviour, what happened \\nimmediately beforehand and what happened \\nimmediately afterwards',\n",
       "  None,\n",
       "  None,\n",
       "  'Teacher, integration aide, other school staff',\n",
       "  None,\n",
       "  None],\n",
       " ['Review the week’s data at the end of each week to \\nmonitor any changes.',\n",
       "  None,\n",
       "  None,\n",
       "  'Teacher',\n",
       "  None,\n",
       "  None],\n",
       " ['How will implementers of this PBSP communicate with one another to discuss implementation?',\n",
       "  None,\n",
       "  None,\n",
       "  None,\n",
       "  None,\n",
       "  None],\n",
       " ['Strategy', None, None, 'Person(s) responsible', None, None],\n",
       " ['Stakeholder meetings to be held monthly',\n",
       "  None,\n",
       "  None,\n",
       "  'Behaviour support practitioner, the teacher, and \\nEddie’s parents',\n",
       "  None,\n",
       "  None],\n",
       " ['How will PBSP implementation and goal achievement be reviewed and monitored?',\n",
       "  None,\n",
       "  None,\n",
       "  None,\n",
       "  None,\n",
       "  None],\n",
       " ['Strategy', None, None, 'Person(s) responsible', None, None],\n",
       " ['Data will be analysed, including graphing the \\nscatterplot data, and provide a review report to the \\nstakeholder meetings.',\n",
       "  None,\n",
       "  None,\n",
       "  'Behaviour support practitioner',\n",
       "  None,\n",
       "  None],\n",
       " ['Monthly stakeholder meeting will be used to review if \\nthe target behaviour is not decreasing. Consideration \\nand identification of any required amendments to this \\nplan will also happen in this meeting.',\n",
       "  None,\n",
       "  None,\n",
       "  'Behaviour support practitioner, the teacher, and \\nEddie’s parents',\n",
       "  None,\n",
       "  None],\n",
       " ['Timeframe for plan review', None, None, None, None, None],\n",
       " ['First review: 10/03/2021; 6 month review: May 2021; End of year review: November 2021',\n",
       "  None,\n",
       "  None,\n",
       "  None,\n",
       "  None,\n",
       "  None],\n",
       " ['How did you assess the acceptability of the interventions proposed in this PBSP?'],\n",
       " ['Relevant stakeholders were provided the plan to read. They then answered a questionnaire with items assessing \\nsocial validity. All stakeholders consulted indicated that the interventions proposed were acceptable.'],\n",
       " ['Who did you consult with?'],\n",
       " ['Parents, teachers, integration aide']]"
      ]
     },
     "execution_count": 376,
     "metadata": {},
     "output_type": "execute_result"
    }
   ],
   "source": [
    "tables"
   ]
  },
  {
   "cell_type": "code",
   "execution_count": 364,
   "id": "e8c4ba33",
   "metadata": {
    "ExecuteTime": {
     "end_time": "2022-10-10T10:11:33.744272Z",
     "start_time": "2022-10-10T10:11:33.729764Z"
    },
    "scrolled": true
   },
   "outputs": [
    {
     "data": {
      "text/plain": [
       "'Positive Behaviour Support Plan (PBSP) \\nSummary Document \\n \\nWe envision that the user interface will contain six separate pages. Below is a description of each page and the text \\nboxes we propose to be included. \\n \\n \\nPAGE 1 – About the Person with Disability \\n \\n• \\nThis page contains the relevant information about the person with disability who is the focus of the PBSP. \\nThis information only needs to be entered once by the user. \\n \\nNOTE: We will need to develop checklist items to assess the content in this section. This section will mainly \\nbe looking for the absence of content (i.e., information is not provided). \\n \\nProvide a short summary about the person with disability who is the focus of the PBSP \\nEddie is 15 years old and lives at home with his parents.  Eddie’s brother Jack and sister Jill live locally however do \\nnot visit often due to Eddie’s challenging behaviours.  Eddie has a diagnosis of moderate intellectual disability and \\ninsulin dependent type 1 diabetes. \\n \\nEddie enjoys spending time with other males his age who include him in their activities and most of all being active.  \\nEddie is a very fast runner and loves to race others across any open spaces he finds himself in.  Due to Eddie’s fitness, \\nheight and long legs, he outruns most people.  Eddie will often laugh loudly whilst he is running.   \\n \\nEddie’s favourite things are spending time with his dad, running, wide open spaces, playing basketball and watching \\naeroplanes.  Upon hearing an aeroplane, Eddie will run from wherever he is to get a look at the aeroplane and will \\nlaugh loudly whilst looking up and waving at them.  Eddie goes to basketball training Tuesday and Thursday \\nafternoon, playing games with other teams most Saturdays. \\n \\nAt home Eddie requires prompting to attend to his personal hygiene needs and to assist daily activities.  Eddie \\nresponds well to being shown what to do then staying with him for support whilst he tries to imitate them.   \\n \\nEddie enjoys being outside in his back yard, in the sunshine, and often runs around without any real direction with \\na big smile on his face.   \\n \\nEddie is a good sleeper, putting himself to bed before 9.00 pm, waking between 6.00 and 7.00 in the morning each \\nday.  Eddie will generally always sleep through any disturbances during the night, however, if woken, it can take \\nsome time to encourage Eddie back to bed, rather than getting up to start his day.  If it is still dark outside this is \\neasier to do. \\n \\nEddie’s family report that Eddie shows signs of unease, such as tightened jaw, upper body and limbs, when in a \\nvehicle.  They also report that it is difficult to get Eddie into and out of any vehicle. \\n \\nEddie enjoys his food however does not appear to understand why he can’t eat the same food as others.  Family \\nand staff report behaviours of concern to be a regular occurrence at meal times both within the home and at school.  \\nEddie also does not like to have his insulin injection each day and family are always prepared for behaviours of \\nconcern such as hitting people at injection time which is generally at 8.00 am (following the advice of Eddie’s \\nspecialist).  A nutritionist has provided a detailed menu plan which family and school staff follow diligently.  Eddie \\ndoes not like to go and see the nutritionist and often family send her reports of how Eddie is going rather than \\ntaking him to see her. \\n \\nEddie attends St Lucia State High School and is in year 10.  Due to his learning needs he receives assistance from a \\nteacher’s aide in the classroom. The teacher provides differentiated curriculum and instruction as required due to \\nthe impact of his intellectual impairment on his learning.  When Eddie is supported he works well on academic tasks \\nand demonstrates a willingness to try hard. \\n \\nEddie usually attends school five days a week.  Unfortunately, due to Eddie’s ongoing use of physical aggression to \\nstaff and peers, Eddie was suspended from attending for a 2 week period in mid-October. \\n \\nThe relationship between Eddie and his fellow students can be both positive and negative.  When the students are \\nall engaged in preferred activities either with school staff or each other, there is a real sense of camaraderie and \\nfriendship.  However, Eddie will often instigate physical aggression, hitting or forcefully pushing other students, if \\nhe has had to wait for any period of time. \\n \\nEddie does well when surrounded by other young men, engaged in physical activities of any kind especially \\nbasketball and any game that involves running.  Eddie also uses positive body language such as smiling and shaking \\nhands with others. \\n \\nEddie is able to communicate most of his needs through the use of some single syllable words (i.e. yes and no in \\ncontext, help, hurt, run, now, dad, mum, Jack, Jill, out, why, ball, me, food, car, plane, fast, need - short for needle) \\nand gestures.  Eddie understands two to three step instructions and maximum 8 word sentences that are kept clear, \\nsimple and spaced apart.  His ability to use words to communicate significantly decreases leading up to and during \\nhis use of behaviours of concern. \\n \\nEddie responds well to large group activities [especially with other males] that involve physical activity and often \\nhas a big smile on his face at these times.  However, if Eddie arrives late and is unable to engage in a preferred \\nactivity, he will always respond with aggression to those who advise of his inability to join in.   When it is raining and \\noutdoor activities are cancelled, and everyone is inside, Eddie will generally respond with behaviours of concern \\nsuch as hitting and pushing other students, yelling loudly at others and property damage. \\n \\nEddie likes to know what is happening next, so having a routine is important to him.  If there are required changes \\nto the routine these need to be explained to him in advance, and preferably, emailed to his parents so that they can \\nreinforce the change in the evening before school.  If there is an unexpected or unexplained change, or if the \\nmaterials needed for an activity aren’t prepared, he can become agitated and upset. \\n \\nIn class he prefers to work in quieter areas and can become anxious and agitated when the classroom is noisy or \\nthere is a lot of activity.  Eddie can work well on academic tasks but will not take risks if he is unsure whether he will \\nable to complete the activity successfully.  When he finds the work difficult or too challenging he can refuse to \\nparticipate. \\n \\nEddie has a small friendship circle at school, generally with other students who include him in their sporting games \\nduring breaks.  Eddie often does not initiate interactions with the other students, usually only interacting when \\nother students initiate the interaction. \\n \\n \\n \\nPAGE 2 – Assessments and Data Gathering \\n \\n• \\nThis page contains the relevant information regarding the assessments undertaken, and the data gathered to \\ninform PBSP development. This information only needs to be entered once by the user. \\n \\nNOTE: We will need to develop checklist items to assess the content in this section. This section will mainly \\nbe looking for the absence of content (i.e., information is not provided). \\n \\nPersons consulted to prepare this PBSP (add/remove rows as required) \\nWho are they? \\nHow were they consulted? \\nMother \\nFace to face interview \\nFather \\nTelephone interview \\nTeacher \\nFace to face interview \\nIntegration aide \\nVideo conference interview \\nSports coordinator \\nFace to face interview \\nOutline the behavioural assessment approaches implemented to develop this PBSP \\nContextual Assessment Inventory completed by his teacher, observation (scatter plots) completed by his teacher \\nand integration aide, and Functional Assessment Interview (completed by his mother and teacher) \\nAdditional non-behavioural assessments undertaken or reviewed to inform the development of this PBSP \\nNone \\n \\n \\n \\n \\nPAGE 3 – Functional Behavioural Assessment \\n \\n• \\nWe envision that this page will start with a drop-down menu that allows the user to choose one of the five \\nfunctions of behaviour: \\no Avoidance/escape \\no Communication \\no Physical/sensory need \\no Seeking an object/activity \\no Other – please specify \\n \\n• \\nOnce they choose a function, the text boxes below would come up for the user to input information. \\n \\n• \\nFollowing this, the user will be asked if they want to include another function of behaviour. \\no If YES, the drop-down menu that allows the user to choose one of the five functions behaviour \\nappears again. Once a choice is made, these text boxes appear again. \\n▪ \\nRepeat this process until the user has no more functions to add. \\n \\nNOTE: The items on the existing BSPA-tool will be used to assess the content in this section. We need to \\nmake some additional modifications to the tool to assist in more precise scoring. \\n \\nFunction \\nAvoidance/escape \\nCommunication \\nPhysical/sensory \\nneed \\nSeeking an \\nobject/activity \\nOther – please \\nspecify \\n \\n \\nFunction – Name of function (either avoidance/escape, communication, physical/sensory need, seeking an \\nobject/activity, other – please specify) \\n \\nDescription of behaviours (include frequency, duration and severity) that align with this function \\nEddie hits staff and other students with his open hand or pushes them forcefully, daily, on average 2.5 incidents \\nper day. Incidents last on average 10 minutes and Minor injuries to others as a result of being slapped or pushed. \\nEddie rips up books and other teaching materials or throws objects around the room. This happens less than once \\na day, with an average of one or two incidents every couple of days. Incidents last on average 10 minutes and \\nthere is damage to classroom materials and/or students are injured if hit by flying objects. \\nSetting events, triggers and consequences related to these behaviours (add/remove rows as necessary) \\nSetting events  \\nTriggers \\nConsequences \\nNo breakfast \\nAsked to complete work in class \\nTeacher goes to Eddie to calm him \\ndown. He is often removed from the \\nclassroom. \\nNormal school routine has had a \\nchange \\n \\nGains teacher attention and escapes \\nLow blood sugar levels \\n \\n \\nA summary statement outlining the functional hypothesis \\nWhen Eddie is asked to complete work in class that he finds difficult or needs to complete independently he uses \\nphysical aggression or property damage, resulting in the teacher attending to him and him not completing the \\nrequired work. The physical aggression and property damage have the same functions, to gain the attention of the \\nteacher and to avoid work that he finds difficult or is not his preference. \\nProposed alternative or functionally equivalent replacement behaviour(s) \\nAsk teacher for help \\n \\n \\nPage 4 – Positive Behavioural Support Interventions \\n \\nGoals \\n \\nGoal(s) specific to the behaviours described \\nEddie will ask the teacher or the Aide for help by putting his hand up every time he needs help or a break. He will \\nachieve this by the end of June, 2021. \\nGoals specific to enhancing the person’s quality of life  \\nNone specified \\n \\n \\nStrategies \\n \\nEnvironmental changes to address setting events and triggers (changes to reduce and/or eliminate their influence) \\nTo manage the triggers of Eddie’s behaviour: \\n \\n• \\nWherever possible, teach concepts using examples and activities that interest Eddie \\n• \\nSet teaching activities in smaller, time limited “chunks”, no longer than 10 minutes each time. \\n• \\n Do assignments in small groups where possible, with students Eddie gets on well with. \\n• \\nRemind Eddie of the planned routine for doing classwork before each break so that when he returns to \\nclass he understands what happens next. \\n• \\nClosely supervise Eddie to identify quickly when he needs assistance or is drifting off task. When he is \\nlooking as though he is struggling or becoming distracted the teacher will move to him and ask him to \\nshow his work or whether he needs assistance. The teacher will provide him with assistance or \\nencouragement, according to his progress. \\n• \\nRecognise that it is likely that Eddie gets tired and has difficulty concentrating in the late afternoon so \\nmake sure that the work he is given is interesting for him and not too challenging. \\n \\nTo assist, school management will:  \\n \\n• \\nContinue to supply a teacher aide that will enable Eddie to be given targeted instruction and support at \\ntimes when he needs to engage in academic work that he finds difficult and to support the development \\nof his social and communication skills. \\n• \\nAllocate relief teachers known to Eddie whenever possible to reduce the effects of change in teachers \\nwhen the regular teacher is not available. \\n• \\nCommunicate regularly with Eddie’s parents to inform them of changes to the school routine or other \\nmatters that need to be reinforced with Eddie to assist in his understanding. \\n• \\nProvide coordination of Eddie’s involvement in school activities outside the classroom with other school \\npersonnel, including the Sports Coordinator to ensure that he is able to participate. \\n \\nTo assist, teachers will: \\n \\n• \\nEnsure that Eddie’s blood sugar level is tested at the specified times each day and that he eats the food he \\nhas brought with him. \\n• \\nDevelop lesson plans to differentiate the instruction suited to Eddie’s learning needs and ensure that the \\nteacher’s aide and other teachers are familiar with these lesson plans. \\n• \\nProvide teaching that suits Eddie’s learning needs. \\n• \\nUtilise a visual timetable for all students on the whiteboard each day. \\n• \\nDevelop and use social stories to assist Eddie in understanding daily routines, changes in routine and social \\ninteractions. \\n• \\nArrange the classroom to minimise noise and distractions for Eddie, particularly when he is working. \\n• \\nAdvise and support the teacher aide before each lesson in the work/activities to be completed by Eddie \\nand the supports that need to be provided to him. \\n• \\nTeam Eddie up with students he gets along well with. \\n• \\nDevelop and implement a planned routine for the transition into class at the beginning of the day for all \\nstudents to ensure that they move into the room and quickly settle down at their tables. \\n \\nTeaching of the alternative or functionally equivalent replacement behaviour(s) (e.g., description of the teaching \\nstrategy and materials needed) \\nWhat: When Eddie is doing work in the classroom, he will ask for help or for a break from the work he is doing by \\nputting his hand up and getting the teacher’s attention. \\n \\nHow: The teacher’s aide will implement the teaching strategy that has been developed by the teacher. \\n \\nEach morning before Eddie commences his school work the teacher’s aide will teach him before the rest of the \\nstudents arrive.  Using explicit instruction and role play, the teacher’s aide will teach each step of asking for help or \\nfor a break (hand up, wait for teacher to acknowledge you, say “need help” or “need break”, wait for teacher to \\nrespond). This will be followed up with a social story (using pictures to represent the situation where Eddie needs \\nhelp or a break and would like to get the teacher’s attention) that can be used to remind Eddie how to use the skill \\nhe has learned. \\n \\nThe teaching strategy will explained to all staff who work with Eddie and data on his progress against each of the \\nsteps will be recorded.  Teaching will cease when Eddie demonstrates that he has mastered all aspects of the skill \\nand prompting will cease after he has been successfully using the skill every time he is prompted for a period of \\none month. \\n \\nWho: The classroom teacher and the allocated teacher’s aide. \\n \\nWhen: A dedicated time for teaching the skill away from the other students will occur once a day. The skill will also \\nbe taught at naturally occurring ties when Eddie needs assistance or a break. \\n \\nWhere: In the classroom. \\n \\nMaterials: No materials are required however dedicated time from the teacher’s aide will be needed. \\n \\nOnce Eddie has mastered this skill a teaching plan will be developed and implemented to teach him wait for \\nassistance. \\nOther strategies (e.g., social, independence, coping, tolerance, etc.) \\nEddie enjoys and values being included in activities at school.  His quality of life would be improved if he had more \\nopportunities for social interaction with his peers.  Strategies that will be implemented are; \\n \\n• \\nDevelop a buddy system with the students who already interact well with Eddie and support them to \\nactively engage with Eddie and encourage him to participate in their sporting games with other students. \\nThe aim is to widen the circle of students he can interact with. \\n• \\nDuring breaks the supervising teacher in the playground will assist Eddie in asking other students to \\ninclude him in their games. \\n \\nGiven Eddie’s sensitivity to noise and activity and need for routine, the following strategies will be used in the \\nclassroom; \\n \\n• \\nEnsure that he sits in an area in the classroom that has minimal distractions and noise interruption.  This \\nmay be close to the front of the class, and near the teacher so that noise and distraction is behind him. \\n• \\nHave regular communication with his parents to keep them informed of any changes to routine and his \\nprogress.  Their preference is for email contact. \\n• \\nUse social stories wherever possible to assist Eddie in understanding routines and behavioural \\nexpectations (such as how to ask to be included in games). \\n• \\nFor transitions, Eddie will be encouraged to put on headphones and listen to music in a quiet area of the \\nclassroom until all of the other students have settled down in their seats. Once the other students have \\nsettled he is to take the headphones off and engage in the lesson. \\n \\nEddie enjoys running and other active sports.  This is an important opportunity for Eddie to increase his \\nparticipation in school activities. Strategies include; \\n• \\nSign Eddie up for the school basketball team and cross country running teams. \\n• \\nEddie’s father has offered to volunteer for school sports carnivals. Ensure that Mr Yahoo is invited along so \\nthat he can coordinate Eddie and a couple of other students to assist in the organising of the events, such \\nas getting equipment ready, scoring etc. \\n• \\nDuring other sports activities in which he is not participating, Eddie will be asked by the coordinating \\nteacher to assist in the scoring. \\n \\nEddie will also be supported to take an active role in non-sporting activities at the school, such as; \\n• \\nAssisting the teacher in organising the school assembly. \\n• \\nAssisting with food preparation at the breakfast club. \\n• \\nEnrolling him in the Buddy reading program. \\n \\nEddie will be supported to attend the “Best Mates” social club one lunchtime per week. This is a play and activities \\nbased program with the aim of developing student interactions and social skills. Eddie’s friends will also be \\nencouraged to attend the sessions he attends. \\n \\n \\nReinforcement for Skill Development \\n \\nProposed reinforcers \\nAttention, praise and tokens \\nSchedule of reinforcement \\n• \\nAlways provide Eddie with attention when he begins to attempt the work and makes effort.  Gradually \\nwithdraw this attention as he attends to his work for longer periods of time. \\n• \\nProvide praise for completed assignments. \\n• \\nProvide praise when he asks for help or requests a break (the desired behaviour). \\n• \\nWhen Eddie has completed work in the classroom (with and without assistance) he will be provided with a \\ntoken to put on the chart on display on the classroom wall. At the end of the day when he has collected at \\nleast 5 tokens he will able to spend the last ½ hour of the school day engaging in an activity of his choice \\nand interest. Eddie likes to play games on the iPad so this would be his preferred activity. \\nHow were these reinforcers identified? \\nA preference assessment was undertaken by the behaviour support practitioner to ascertain what Eddie’s \\npreferred activities are. \\n \\n \\nDe-Escalation - Reactive strategies for challenging behaviours \\n \\nHow to prompt the alternative or functionally replacement behaviour(s) \\nIf Eddie begins to demonstrate the precursor behaviours to him hitting or engaging in property damage (getting \\nout of his chair, pacing, refusing to make eye contact) go over to him, get his attention and ask him if he would like \\nsome help. If Eddie nods his head sit down at the table with him and provide him with the assistance he needs. Do \\nnot delay in providing the assistance.  When he has sat down and when it is appropriate to do so, remind Eddie of \\nthe ways that he can ask for help from the teacher of the Aide.  When he completes the work support him to \\nengage in a preferred activity before moving on to the next activity. \\nStrategies to ensure the safety of the person and/or others \\nIf Eddie escalates and begins to engage in property damage such as throwing objects and ripping worksheets move \\naway from Eddie. Do not use threatening postures, a loud voice, or tell Eddie to calm down. Maintain the \\nappearance of being calm. If you can, distract Eddie by asking whether he would like to go outside and play \\nbasketball. If Eddie is hitting or attempting to hit people follow the school’s policy and procedures for dealing with \\nbehaviours that are a risk of harm to others. \\nPost-incident debriefing with the person with disability and/or parents, support staff, etc. \\nWhen Eddie has stopped the behaviour and has de-escalated, at the appropriate time speak to him alone to \\nremind him of the ways he can ask for help or a break from the work he is doing. \\n \\n \\n \\nPAGE 5 – Restrictive Intervention \\n \\n• \\nWe envision that this page will start with a YES/NO item that asks if restrictive interventions are proposed \\nfor use.  \\n \\n• \\nThen, a drop-down menu will come up that allows the user to choose one of five restrictive intervention \\noptions: \\no Chemical restraint \\no Physical restraint \\no Mechanical restraint \\no Environmental restraint \\no Seclusion \\n \\n• \\nOnce they choose a restrictive intervention option, the appropriate set of text boxes (see below) would come \\nup for the user to input information. \\n \\n• \\nFollowing this, the user will be asked if they want to include another restrictive intervention. \\no If YES, the drop-down menu that allows the user to choose one of the five restrictive intervention \\noptions appears again. Once a choice is made, the appropriate set of text boxes appear again. \\n▪ \\nRepeat this process until the user has no more restrictive interventions to add. \\n \\nNOTE: We will need to develop checklist items to assess the content in this section. This section will mainly \\nbe looking for the absence of content (i.e., information is not provided). \\n \\nAre you proposed to use restrictive interventions? \\nYes \\nNo \\n \\nType of restrictive intervention \\n \\nRestrictive intervention \\nChemical \\nPhysical \\nMechanical \\nEnvironmental \\nSeclusion \\n \\nChemical Restraint \\n \\nMedication(s) that will be used (e.g., name, dosage, frequency, administration, route, prescriber) \\nName \\nDosage \\nFrequency \\nAdministration \\nRoute \\nPrescriber \\n \\n \\n \\n \\n \\n \\nPositive behavioural support strategies to be used before the PRN use of the medication \\n \\nCircumstance(s) in which the medication(s) will be used \\n \\nProcedure for administering the medication(s), including observation and monitoring of side-effects \\n \\nHow will chemical restraint be gradually reduced as behavioural goals are achieved by the person? \\n \\nWhy is the use of this medication the least restrictive way of ensuring the safety of the person and/or others? \\n \\nSocial validity of the restrictive practice \\nHow did you assess the acceptability of this practice? \\nWho did you consult with to assess this? \\n \\n \\nAuthorisation for the use of restrictive practice \\nAuthorising body \\nApproval period \\n \\n \\n \\n \\nPhysical \\n \\nDescription of the restraint(s) to be used \\n \\nPositive behavioural support strategies to be used before the use of the restraint \\n \\nCircumstance(s) in which the restraint will be used \\n \\nProcedure for using the restraint, including observation, monitoring and maximum time period \\n \\nHow will the restraint be gradually reduced as behavioural goals are achieved by the person? \\n \\nWhy is the use of this restraint the least restrictive way of ensuring the safety of the person and/or others? \\n \\nSocial validity of the restrictive practice \\nHow did you assess the acceptability of this practice? \\nWho did you consult with to assess this? \\n \\n \\nAuthorisation for the use of restrictive practice \\nAuthorising body \\nApproval period \\n \\n \\n \\n \\nMechanical \\n \\nDescription of the restraint(s) to be used \\n \\nFrequency of use \\nRoutine use \\nAs needed \\nPositive behavioural support strategies to be used before the as needed use of the restraint \\n \\nCircumstance(s) in which the restraint will be used \\n \\nProcedure for using the restraint, including observation, monitoring and maximum time period \\n \\nHow do you know this restraint is safe to use? \\n \\nHow will the restraint be gradually reduced as behavioural goals are achieved by the person? \\n \\nWhy is the use of this practice the least restrictive way of ensuring the safety of the person and/or others? \\n \\nSocial validity of the practice \\nHow did you assess the acceptability of this practice? \\nWho did you consult with to assess this? \\n \\n \\nAuthorisation for the use of the practices \\nAuthorising body \\nApproval period \\n \\n \\n \\n \\nEnvironmental \\n \\nDescription of the restraint(s) to be used \\n \\nFrequency of use \\nRoutine use \\nAs needed \\nPositive behavioural support strategies to be used before the as needed use of the restraint \\n \\nCircumstance(s) in which the restraint will be used \\n \\nWhat is the person with disability prevented from accessing? \\n \\nProcedure for using the restraint, including observation and monitoring  \\n \\nWill other people be impacted by the use of this restraint? \\nYes \\nNo \\nIf YES, how will impact on others be minimised? \\n \\nHow will the restraint be gradually reduced as behavioural goals are achieved by the person? \\n \\nWhy is the use of this practice the least restrictive way of ensuring the safety of the person and/or others? \\n \\nSocial validity of the practice \\nHow did you assess the acceptability of this practice? \\nWho did you consult with to assess this? \\n \\n \\nAuthorisation for the use of the practices \\nAuthorising body \\nApproval period \\n \\n \\n \\n \\nSeclusion \\n \\nFrequency of use \\nRoutine use \\nAs needed \\nPositive behavioural support strategies to be used before the as needed use of seclusion \\n \\nCircumstance(s) in which seclusion will be used \\n \\nThe maximum frequency of seclusion per day, week and/or month; and for how long (minutes/hours) \\n \\nProcedure for using seclusion, including observation and monitoring \\n \\nHow will seclusion be gradually reduced as behavioural goals are achieved by the person? \\n \\nWhy is the use seclusion the least restrictive way of ensuring the safety of the person and/or others? \\n \\nSocial validity of seclusion \\nHow did you assess the acceptability of this practice? \\nWho did you consult with to assess this? \\n \\n \\nAuthorisation for the use of restrictive practices \\nAuthorising body \\nApproval period \\n \\n \\n \\n \\n \\nPAGE 6 – PBSP Implementation \\n \\n• \\nThis page contains the relevant information about the PBSP implementation process. This information only \\nneeds to be entered once by the user. \\n \\nNOTE: We will need to develop checklist items to assess the content in this section. This section will mainly \\nbe looking for the absence of content (i.e., information is not provided). \\n \\nImplementation \\n \\nPeople involved in the implementation of this PBSP \\nTeacher \\nIntegration aide \\nOther school staff \\n \\n \\nHow will implementers of this PBSP be trained to implement the proposed interventions? \\nStrategy \\nPerson(s) responsible \\nFace to face training to train integration aide how to \\nimplement the teaching strategy \\nTeacher \\nObservation of integration aide implementing the \\nteaching strategy and providing feedback on three \\nseparate occasions \\nTeacher \\nOutline the implementation plan \\nAction \\nPerson(s) responsible \\nEach morning before Eddie commences his schoolwork, \\nthe teacher’s aide will teach him how to ask for help \\nbefore the rest of the students arrive \\nIntegration aide \\nRecord the use of the target behaviours via the data \\nrecording sheet in class and in the playground \\nTeacher, integration aide, other school staff \\nIncident reports will be completed for instances of \\nphysical aggression and property damage in order to \\nrecord the context of the behaviour, what happened \\nimmediately beforehand and what happened \\nimmediately afterwards \\nTeacher, integration aide, other school staff \\nReview the week’s data at the end of each week to \\nmonitor any changes. \\nTeacher \\nHow will implementers of this PBSP communicate with one another to discuss implementation? \\nStrategy \\nPerson(s) responsible \\nStakeholder meetings to be held monthly \\nBehaviour support practitioner, the teacher, and \\nEddie’s parents \\nHow will PBSP implementation and goal achievement be reviewed and monitored? \\nStrategy \\nPerson(s) responsible \\nData will be analysed, including graphing the \\nscatterplot data, and provide a review report to the \\nstakeholder meetings. \\nBehaviour support practitioner \\nMonthly stakeholder meeting will be used to review if \\nthe target behaviour is not decreasing. Consideration \\nand identification of any required amendments to this \\nplan will also happen in this meeting. \\nBehaviour support practitioner, the teacher, and \\nEddie’s parents \\nTimeframe for plan review \\nFirst review: 10/03/2021; 6 month review: May 2021; End of year review: November 2021 \\n \\n \\nSocial Validity \\n \\nHow did you assess the acceptability of the interventions proposed in this PBSP? \\nRelevant stakeholders were provided the plan to read. They then answered a questionnaire with items assessing \\nsocial validity. All stakeholders consulted indicated that the interventions proposed were acceptable. \\nWho did you consult with? \\nParents, teachers, integration aide \\n \\n'"
      ]
     },
     "execution_count": 364,
     "metadata": {},
     "output_type": "execute_result"
    }
   ],
   "source": [
    "all_content"
   ]
  },
  {
   "cell_type": "markdown",
   "id": "34bd67ba",
   "metadata": {},
   "source": [
    "# Insert into databse"
   ]
  },
  {
   "cell_type": "markdown",
   "id": "a50947a7",
   "metadata": {},
   "source": [
    "## page1"
   ]
  },
  {
   "cell_type": "code",
   "execution_count": 365,
   "id": "eca352a5",
   "metadata": {
    "ExecuteTime": {
     "end_time": "2022-10-10T10:11:37.808214Z",
     "start_time": "2022-10-10T10:11:37.797214Z"
    }
   },
   "outputs": [],
   "source": [
    "def extract_paragraph(start_string,end_string):\n",
    "    start = all_content.find(start_string)\n",
    "    end = all_content.find(end_string)\n",
    "    current_content = all_content[start+len(start_string):end]\n",
    "    return current_content"
   ]
  },
  {
   "cell_type": "code",
   "execution_count": 385,
   "id": "26a77059",
   "metadata": {
    "ExecuteTime": {
     "end_time": "2022-10-10T12:03:35.982496Z",
     "start_time": "2022-10-10T12:03:35.968502Z"
    },
    "scrolled": true
   },
   "outputs": [
    {
     "data": {
      "text/plain": [
       "' \\nStrategy \\nPerson(s) responsible \\nStakeholder meetings to be held monthly \\nBehaviour support practitioner, the teacher, and \\nEddie’s parents \\n'"
      ]
     },
     "execution_count": 385,
     "metadata": {},
     "output_type": "execute_result"
    }
   ],
   "source": [
    "extract_paragraph('How will implementers of this PBSP communicate with one another to discuss implementation?',\n",
    "        'How will PBSP implementation and goal achievement be reviewed and monitored?')"
   ]
  },
  {
   "cell_type": "markdown",
   "id": "50f67c41",
   "metadata": {},
   "source": [
    "## page2"
   ]
  },
  {
   "cell_type": "code",
   "execution_count": 302,
   "id": "7d87ef7d",
   "metadata": {
    "ExecuteTime": {
     "end_time": "2022-10-10T02:32:30.348224Z",
     "start_time": "2022-10-10T02:32:30.333221Z"
    }
   },
   "outputs": [],
   "source": [
    "def extract_table(s,e,tables,start_index):\n",
    "    cur_table = []\n",
    "\n",
    "    for i in range(start_index,len(tables)):\n",
    "        try:\n",
    "            if s in tables[i]:\n",
    "                table_length = len(list(filter(None, tables[i+1])))\n",
    "                index = i+2\n",
    "                while e not in tables[index]:\n",
    "                    temp = []\n",
    "                    for j in tables[index]:\n",
    "                        if isinstance(j, str):\n",
    "                            temp.append(j)\n",
    "                    if len(temp) == table_length:\n",
    "                        cur_table.append(temp)\n",
    "                    # if the current length is smaller than number of table columns, add the cuurent text to the previous one\n",
    "\n",
    "                    index+=1\n",
    "                return((cur_table),index)\n",
    "        except:\n",
    "            print(\"search table failed\")\n",
    "    print(\"cannot find \"+s)"
   ]
  },
  {
   "cell_type": "code",
   "execution_count": 386,
   "id": "249a68c3",
   "metadata": {
    "ExecuteTime": {
     "end_time": "2022-10-10T12:03:37.980096Z",
     "start_time": "2022-10-10T12:03:37.969094Z"
    }
   },
   "outputs": [
    {
     "name": "stdout",
     "output_type": "stream",
     "text": [
      "['Setting events, triggers and consequences related to these behaviours (add/remove rows as necessary)', None, None]\n"
     ]
    },
    {
     "data": {
      "text/plain": [
       "([['No breakfast',\n",
       "   'Asked to complete work in class',\n",
       "   'Teacher goes to Eddie to calm him \\ndown. He is often removed from the \\nclassroom.'],\n",
       "  ['Normal school routine has had a \\nchange',\n",
       "   '',\n",
       "   'Gains teacher attention and escapes'],\n",
       "  ['Low blood sugar levels', '', '']],\n",
       " 22)"
      ]
     },
     "execution_count": 386,
     "metadata": {},
     "output_type": "execute_result"
    }
   ],
   "source": [
    "extract_table('Setting events, triggers and consequences related to these behaviours (add/remove rows as necessary)',\n",
    "        'A summary statement outlining the functional hypothesis',tables,0\n",
    "             )"
   ]
  },
  {
   "cell_type": "code",
   "execution_count": 251,
   "id": "5ef52d14",
   "metadata": {
    "ExecuteTime": {
     "end_time": "2022-10-09T13:13:01.922054Z",
     "start_time": "2022-10-09T13:13:00.327694Z"
    },
    "scrolled": false
   },
   "outputs": [],
   "source": [
    "import pdfplumber\n",
    "a = []\n",
    "with pdfplumber.open(file_name) as pdf: \n",
    "    for page in pdf.pages:\n",
    "        text = page\n",
    "        clean_text = text.filter(lambda obj: obj[\"object_type\"] == \"char\" and \"Bold\" in obj[\"fontname\"])\n",
    "        t = clean_text.extract_text()\n",
    "        if t:\n",
    "\n",
    "            a.append(t.replace('\\n',' '))\n",
    "        "
   ]
  },
  {
   "cell_type": "code",
   "execution_count": 306,
   "id": "517c4566",
   "metadata": {
    "ExecuteTime": {
     "end_time": "2022-10-10T04:03:08.148216Z",
     "start_time": "2022-10-10T04:03:08.134212Z"
    },
    "scrolled": true
   },
   "outputs": [
    {
     "name": "stdout",
     "output_type": "stream",
     "text": [
      "Positive Behaviour Support Plan (PBSP)  PAGE 1 –About the Person with Disability  \n",
      "PAGE 2 –Assessments and Data Gathering    \n",
      "PAGE 3 – Functional Behavioural Assessment  Access –  person/object/activity   \n",
      "Page 4 – Positive Behavioural Support Interventions   \n",
      "The community access arrangements in place for the adult  Taylor is to attend at least one of these outings of his choice  every second day, for a minimum of two hours.  weekly basis\n",
      "     \n",
      "PAGE 5 – Restrictive Intervention        Yes  Chemical  Mechanical  Seclusion     \n",
      "Routine use \n",
      "PAGE 6 – PBSP Implementation   \n",
      "9\n"
     ]
    }
   ],
   "source": [
    "for i in a:\n",
    "    print(i)\n",
    "print(len(a))"
   ]
  },
  {
   "cell_type": "code",
   "execution_count": 342,
   "id": "e68d297f",
   "metadata": {
    "ExecuteTime": {
     "end_time": "2022-10-10T06:48:07.832230Z",
     "start_time": "2022-10-10T06:48:07.828229Z"
    }
   },
   "outputs": [
    {
     "name": "stdout",
     "output_type": "stream",
     "text": [
      "['Timeframe for plan review', None]\n"
     ]
    },
    {
     "data": {
      "text/plain": [
       "([], 202)"
      ]
     },
     "execution_count": 342,
     "metadata": {},
     "output_type": "execute_result"
    }
   ],
   "source": [
    "extract_table(\n",
    "            'Timeframe for plan review',\n",
    "            'How did you assess the acceptability of the interventions proposed in this PBSP?', tables, 0)"
   ]
  },
  {
   "cell_type": "code",
   "execution_count": 326,
   "id": "88a60f7a",
   "metadata": {
    "ExecuteTime": {
     "end_time": "2022-10-10T05:24:41.741965Z",
     "start_time": "2022-10-10T05:24:41.723961Z"
    }
   },
   "outputs": [
    {
     "name": "stdout",
     "output_type": "stream",
     "text": [
      "75\n",
      "115\n",
      "162\n"
     ]
    }
   ],
   "source": [
    "for i in range(len(tables)):\n",
    "    if \"Authorisation for the use of restrictive practices\" in tables[i]:\n",
    "        print(i)"
   ]
  },
  {
   "cell_type": "code",
   "execution_count": 332,
   "id": "afbdd2a6",
   "metadata": {
    "ExecuteTime": {
     "end_time": "2022-10-10T06:38:54.978786Z",
     "start_time": "2022-10-10T06:38:54.975785Z"
    }
   },
   "outputs": [
    {
     "data": {
      "text/plain": [
       "[' ',\n",
       " 'Behaviour support ',\n",
       " 'practitioner ',\n",
       " 'Support staff ',\n",
       " 'House coordinator ',\n",
       " 'Service manager ',\n",
       " ' ',\n",
       " '']"
      ]
     },
     "execution_count": 332,
     "metadata": {},
     "output_type": "execute_result"
    }
   ],
   "source": [
    "\" \\nBehaviour support \\npractitioner \\nSupport staff \\nHouse coordinator \\nService manager \\n \\n\".split(\"\\n\")"
   ]
  },
  {
   "cell_type": "code",
   "execution_count": null,
   "id": "9b865fb3",
   "metadata": {},
   "outputs": [],
   "source": []
  }
 ],
 "metadata": {
  "kernelspec": {
   "display_name": "Python 3 (ipykernel)",
   "language": "python",
   "name": "python3"
  },
  "language_info": {
   "codemirror_mode": {
    "name": "ipython",
    "version": 3
   },
   "file_extension": ".py",
   "mimetype": "text/x-python",
   "name": "python",
   "nbconvert_exporter": "python",
   "pygments_lexer": "ipython3",
   "version": "3.9.7"
  },
  "toc": {
   "base_numbering": 1,
   "nav_menu": {},
   "number_sections": true,
   "sideBar": true,
   "skip_h1_title": false,
   "title_cell": "Table of Contents",
   "title_sidebar": "Contents",
   "toc_cell": false,
   "toc_position": {},
   "toc_section_display": true,
   "toc_window_display": false
  },
  "varInspector": {
   "cols": {
    "lenName": 16,
    "lenType": 16,
    "lenVar": 40
   },
   "kernels_config": {
    "python": {
     "delete_cmd_postfix": "",
     "delete_cmd_prefix": "del ",
     "library": "var_list.py",
     "varRefreshCmd": "print(var_dic_list())"
    },
    "r": {
     "delete_cmd_postfix": ") ",
     "delete_cmd_prefix": "rm(",
     "library": "var_list.r",
     "varRefreshCmd": "cat(var_dic_list()) "
    }
   },
   "types_to_exclude": [
    "module",
    "function",
    "builtin_function_or_method",
    "instance",
    "_Feature"
   ],
   "window_display": false
  }
 },
 "nbformat": 4,
 "nbformat_minor": 5
}
